{
 "cells": [
  {
   "cell_type": "markdown",
   "metadata": {
    "colab_type": "text",
    "id": "PdxelWviFJcu"
   },
   "source": [
    "# Projekt IUM Politechnika Warszawska (Dokumentacja + Realizacja)"
   ]
  },
  {
   "cell_type": "markdown",
   "metadata": {
    "colab_type": "text",
    "id": "aMwXH-z5J-TW"
   },
   "source": [
    "## Podstawowe informacje\n"
   ]
  },
  {
   "cell_type": "markdown",
   "metadata": {
    "colab_type": "text",
    "id": "36kaEiuPFJcv"
   },
   "source": [
    "\n",
    "### Prowadzący\n",
    "dr inż. Paweł Zawistowski\n",
    "\n",
    "### Autorzy\n",
    "- Maciej Kasprzyk\n",
    "- Wojciech Sitek\n",
    "\n",
    "### Tytuł projektu\n",
    "e-Shoppping - decyzja o zniżkach dla klientów\n",
    "\n",
    "### Numer zadania\n",
    "1.03\n",
    "\n",
    "### Temat projektu\n",
    "Niektórzy klienci nie mogą zdecydować się na zakup oglądając produkt na stronie – ale pewnie gdybyśmy wiedzieli, które to są osoby, to odpowiednia zniżka skłoniłaby ich do zakupu."
   ]
  },
  {
   "cell_type": "markdown",
   "metadata": {
    "colab_type": "text",
    "id": "Ixiyc4ENKA8l"
   },
   "source": [
    "## Etap 1 - dokumentacja wstępna\n"
   ]
  },
  {
   "cell_type": "markdown",
   "metadata": {
    "colab_type": "text",
    "id": "I_Z8hOMkFJcw"
   },
   "source": [
    "\n",
    "### Termin\n",
    "2020.05.01\n",
    "\n",
    "### Do zrobienia\n",
    "- definicja problemu biznesowego i zdefiniowanie zadania/zadań modelowania,.\n",
    "- analiza danych z perspektywy realizacji tych zadań (trzeba ocenić, czy dostarczone dane są wystarczające – może czegoś brakuje, może coś trzeba poprawić, domagać się innych danych, ...)"
   ]
  },
  {
   "cell_type": "markdown",
   "metadata": {
    "colab_type": "text",
    "id": "We_X1X0PJ5_S"
   },
   "source": [
    "## Definicja problemu biznesowego i zadań modelowania\n"
   ]
  },
  {
   "cell_type": "markdown",
   "metadata": {
    "colab_type": "text",
    "id": "pwLztz5xFJcx"
   },
   "source": [
    "\n",
    "1. Jaka jest obecna sytuacja?\n",
    "    - W obecnej sytuacji działa aplikacja webowa sklepu internetowego, w którym można zdalnie dokonać zakupu produktów o określonej cenie.\n",
    "    - Aplikacja rejestruje historię zakupów i obsługuje logowanie użytkowników.\n",
    "    - Sklep zbiera logi ze swojej działalności o 4 rodzajach: użytkownicy, sesje, dostawy oraz produkty.\n",
    "    - Sklep prosperuje bardzo dobrze, jednak kierownictwo nie chce \"osiąść na laurach\".\n",
    "\n",
    "2. Jakie są obserwacje stanu faktycznego i przypuszczenia odnośnie działalności sklepu?\n",
    "    - W firmie powstało przypuszczenie, że wielu klientów przegląda wielokrotnie te same produkty, ale finalnie nie decyduje się na ich zakup.\n",
    "    - Gdyby jednak dla konkretnego klienta zostało zaadrasowane zaproszenie do tańszego zakupu produktu, w sklepie pojawiłoby się więcej klientów i kupowaliby oni więcej produktów.\n",
    "\n",
    "3. Co ma zostać wprowadzone?\n",
    "    - Istnieje podejrzenie, że analiza działalności sklepu internetowego i wprowadzenie udogodnień związanych z uczeniem maszynowym przyniesie duże korzyści.\n",
    "    - Zostało więc zaproponowane usprawnienie, polegające na zautomatyzowanym proponowaniu klienowi zniżki na oglądany produkt na podstawie danych o jego wcześniej przeglądanych produktach.\n",
    "\n",
    "4. Jakie są dostępne zasoby?\n",
    "    - Zasoby, z których można korzystać podczas projektu to dane z przeszłości dotyczące użytkowników, sesji, dostaw oraz produktów oraz temat projektu zadany w konwencji biznesowej (bez szczegółów analitycznych czy technicznych).\n",
    "    \n",
    "5. Jakie są założenia i ograniczenia?\n",
    "    - Zakładamy, że zysk firmy z każdego zakupu produktu bez zniżki to 30% ceny produktu.\n",
    "    - System może przyznawać zniżki o wartości 5%, 10%, 15% i 20% ceny produktu.\n",
    "    - System dąży do maksymalizacji zysku, proponując jak najniższe \"skuteczne\" zniżki.\n",
    "\n",
    "### Biznesowe kryteria sukcesu\n",
    "- Organizacja jest znana ze zniżek przy zakupach.\n",
    "- Organizacja przewyższa konkurencję w niższych cenach produktów, a jednocześnie stosuje promocje tam, gdzie jest to najbardziej opłacalne.\n",
    "- Inwestycja w przygotowanie i wdrożenie projektu zwraca się po określonym czasie, a następnie wytwarza zyski dla organizacji.\n",
    "- Sklep może być reklamowany jako \"inteligentny\", \"wykorzystujący nowoczesne narzędzia\", \"wykorzystujący sztuczną inteligencję\".\n",
    "    \n",
    "### Zadania modelowania\n",
    "W ramach projektu jest realizowane jedno zadanie modelowania. Model będzie zbudowany jako klasyfikator sekwencji na bazie sieci LSTM. Wejściem sieci będzie zdarzenie, które jest częścią historii zdarzeń użytkownika. Jego wyjściem będzie prawdopodobieństwo kupna produktu przez klienta.\n",
    "\n",
    "Z racji że stawki zniżek są dyskretne (0%, 5%, 10%, 15%, 20%), rosnąco dla kolejnych zniżek model wyznaczy prawdopodbieństwo kupna. Gdy osiągnie ono wyznaczony poziom, ta zniżka będzie proponowana klientowi."
   ]
  },
  {
   "cell_type": "markdown",
   "metadata": {
    "colab_type": "text",
    "id": "ypZNxrW-JS7K"
   },
   "source": [
    "## Analiza danych"
   ]
  },
  {
   "cell_type": "markdown",
   "metadata": {
    "colab_type": "text",
    "id": "dT1dYQDWFJcy"
   },
   "source": [
    "### Zadanie do wykonania\n",
    "Analiza danych z perspektywy realizacji zdefiniowanych zadań modelowania (trzeba ocenić, czy dostarczone dane są wystarczające – może czegoś brakuje, może coś trzeba poprawić, domagać się innych danych, ...)\n"
   ]
  },
  {
   "cell_type": "markdown",
   "metadata": {
    "colab_type": "text",
    "id": "n5PnMjFOHAp4"
   },
   "source": [
    "### Analiza danych sesji"
   ]
  },
  {
   "cell_type": "code",
   "execution_count": 18,
   "metadata": {},
   "outputs": [
    {
     "data": {
      "text/html": [
       "<div>\n",
       "<style scoped>\n",
       "    .dataframe tbody tr th:only-of-type {\n",
       "        vertical-align: middle;\n",
       "    }\n",
       "\n",
       "    .dataframe tbody tr th {\n",
       "        vertical-align: top;\n",
       "    }\n",
       "\n",
       "    .dataframe thead th {\n",
       "        text-align: right;\n",
       "    }\n",
       "</style>\n",
       "<table border=\"1\" class=\"dataframe\">\n",
       "  <thead>\n",
       "    <tr style=\"text-align: right;\">\n",
       "      <th></th>\n",
       "      <th>session_id</th>\n",
       "      <th>timestamp</th>\n",
       "      <th>user_id</th>\n",
       "      <th>product_id</th>\n",
       "      <th>event_type</th>\n",
       "      <th>offered_discount</th>\n",
       "      <th>purchase_id</th>\n",
       "    </tr>\n",
       "  </thead>\n",
       "  <tbody>\n",
       "    <tr>\n",
       "      <th>0</th>\n",
       "      <td>100001</td>\n",
       "      <td>2020-02-08T19:35:57</td>\n",
       "      <td>NaN</td>\n",
       "      <td>NaN</td>\n",
       "      <td>VIEW_PRODUCT</td>\n",
       "      <td>0</td>\n",
       "      <td>NaN</td>\n",
       "    </tr>\n",
       "    <tr>\n",
       "      <th>1</th>\n",
       "      <td>100001</td>\n",
       "      <td>2020-02-08T19:38:21</td>\n",
       "      <td>102.0</td>\n",
       "      <td>1281.0</td>\n",
       "      <td>VIEW_PRODUCT</td>\n",
       "      <td>0</td>\n",
       "      <td>NaN</td>\n",
       "    </tr>\n",
       "    <tr>\n",
       "      <th>2</th>\n",
       "      <td>100002</td>\n",
       "      <td>2020-01-06T05:59:46</td>\n",
       "      <td>102.0</td>\n",
       "      <td>1002.0</td>\n",
       "      <td>VIEW_PRODUCT</td>\n",
       "      <td>0</td>\n",
       "      <td>NaN</td>\n",
       "    </tr>\n",
       "    <tr>\n",
       "      <th>3</th>\n",
       "      <td>100002</td>\n",
       "      <td>2020-01-06T06:02:55</td>\n",
       "      <td>102.0</td>\n",
       "      <td>1003.0</td>\n",
       "      <td>VIEW_PRODUCT</td>\n",
       "      <td>0</td>\n",
       "      <td>NaN</td>\n",
       "    </tr>\n",
       "    <tr>\n",
       "      <th>4</th>\n",
       "      <td>100002</td>\n",
       "      <td>2020-01-06T06:04:07</td>\n",
       "      <td>102.0</td>\n",
       "      <td>1075.0</td>\n",
       "      <td>VIEW_PRODUCT</td>\n",
       "      <td>0</td>\n",
       "      <td>NaN</td>\n",
       "    </tr>\n",
       "  </tbody>\n",
       "</table>\n",
       "</div>"
      ],
      "text/plain": [
       "   session_id            timestamp  user_id  product_id    event_type  \\\n",
       "0      100001  2020-02-08T19:35:57      NaN         NaN  VIEW_PRODUCT   \n",
       "1      100001  2020-02-08T19:38:21    102.0      1281.0  VIEW_PRODUCT   \n",
       "2      100002  2020-01-06T05:59:46    102.0      1002.0  VIEW_PRODUCT   \n",
       "3      100002  2020-01-06T06:02:55    102.0      1003.0  VIEW_PRODUCT   \n",
       "4      100002  2020-01-06T06:04:07    102.0      1075.0  VIEW_PRODUCT   \n",
       "\n",
       "   offered_discount  purchase_id  \n",
       "0                 0          NaN  \n",
       "1                 0          NaN  \n",
       "2                 0          NaN  \n",
       "3                 0          NaN  \n",
       "4                 0          NaN  "
      ]
     },
     "execution_count": 18,
     "metadata": {},
     "output_type": "execute_result"
    }
   ],
   "source": [
    "df_events.head()"
   ]
  },
  {
   "cell_type": "code",
   "execution_count": null,
   "metadata": {
    "colab": {
     "base_uri": "https://localhost:8080/",
     "height": 51.0
    },
    "colab_type": "code",
    "id": "qd6aaap5FJcy",
    "outputId": "208e4e8d-c4b9-4360-84ac-3c2dc58fa044"
   },
   "outputs": [
    {
     "name": "stdout",
     "output_type": "stream",
     "text": [
      "<class 'pandas.core.frame.DataFrame'>\n",
      "RangeIndex: 50834 entries, 0 to 50833\n",
      "Data columns (total 7 columns):\n",
      " #   Column            Non-Null Count  Dtype  \n",
      "---  ------            --------------  -----  \n",
      " 0   session_id        50834 non-null  int64  \n",
      " 1   timestamp         50834 non-null  object \n",
      " 2   user_id           48333 non-null  float64\n",
      " 3   product_id        48296 non-null  float64\n",
      " 4   event_type        50834 non-null  object \n",
      " 5   offered_discount  50834 non-null  int64  \n",
      " 6   purchase_id       1846 non-null   float64\n",
      "dtypes: float64(3), int64(2), object(2)\n",
      "memory usage: 2.7+ MB\n",
      "\n",
      "\n",
      "Null products count:  2538\n",
      "Null users count:  2501\n"
     ]
    }
   ],
   "source": [
    "import json\n",
    "import pandas as pd\n",
    "\n",
    "events = []\n",
    "with open(\"input_files/sessions.jsonl\") as file:\n",
    "  lines = [x.strip() for x in file.readlines()]\n",
    "  events = [json.loads(x) for x in lines]\n",
    "\n",
    "def count_nones(array, field):\n",
    "  return sum(e[field] is None for e in array)\n",
    "\n",
    "df_events = pd.DataFrame(events)\n",
    "df_events.info()\n",
    "\n",
    "print(\"\\n\\nNull products count: \", count_nones(events,'product_id'))\n",
    "print(\"Null users count: \", count_nones(events,'user_id'))"
   ]
  },
  {
   "cell_type": "markdown",
   "metadata": {
    "colab_type": "text",
    "id": "OXrDS0oEKlPP"
   },
   "source": [
    "Po wstępnej analizie danych stwierdzamy, że są braki w kolumnach `user_id` oraz `product_id`. Wartości null w kolumnie `purchase_id` oznaczają, że nie doszło do zakupu.\n",
    "\n",
    "Brakujące dane należy uzupełnić lub usunąć rekordy niemożliwe do uzupełnienia."
   ]
  },
  {
   "cell_type": "code",
   "execution_count": 19,
   "metadata": {},
   "outputs": [
    {
     "data": {
      "text/plain": [
       "count    50834.000000\n",
       "mean         5.256226\n",
       "std          7.193651\n",
       "min          0.000000\n",
       "25%          0.000000\n",
       "50%          0.000000\n",
       "75%         10.000000\n",
       "max         20.000000\n",
       "Name: offered_discount, dtype: float64"
      ]
     },
     "execution_count": 19,
     "metadata": {},
     "output_type": "execute_result"
    }
   ],
   "source": [
    "df_events['offered_discount'].describe()"
   ]
  },
  {
   "cell_type": "code",
   "execution_count": 20,
   "metadata": {},
   "outputs": [
    {
     "data": {
      "text/plain": [
       "<matplotlib.axes._subplots.AxesSubplot at 0x7fe4bb4df3d0>"
      ]
     },
     "execution_count": 20,
     "metadata": {},
     "output_type": "execute_result"
    },
    {
     "data": {
      "image/png": "[encoded data removed]",
      "text/plain": [
       "<Figure size 360x360 with 1 Axes>"
      ]
     },
     "metadata": {
      "needs_background": "light"
     },
     "output_type": "display_data"
    }
   ],
   "source": [
    "import seaborn as sns\n",
    "import matplotlib as plt\n",
    "\n",
    "plt.rcParams['figure.figsize'] = [5, 5]\n",
    "sns.boxplot(data = df_events['offered_discount'])"
   ]
  },
  {
   "cell_type": "markdown",
   "metadata": {},
   "source": [
    "Widać tutaj, że średnia dawanej zniżki to lekko ponad 5%. Jednak ponad 50% odsłon produktów nie otrzymało żadnej zniżki. Są one więc dość rzadką sytuacją w danych."
   ]
  },
  {
   "cell_type": "markdown",
   "metadata": {
    "colab_type": "text",
    "id": "u3cwAz5_K0o-"
   },
   "source": [
    "Skoro w danych brakuje niektórych komórek, możemy uzupełnić `user_id` na podstawie wartości z tej samej sesji."
   ]
  },
  {
   "cell_type": "code",
   "execution_count": 21,
   "metadata": {
    "colab": {
     "base_uri": "https://localhost:8080/",
     "height": 34.0
    },
    "colab_type": "code",
    "id": "ZizqRlJxLyer",
    "outputId": "e7da9f86-390f-45dc-bb3e-3c6aea00744e"
   },
   "outputs": [
    {
     "name": "stdout",
     "output_type": "stream",
     "text": [
      "Null users count:  83\n"
     ]
    }
   ],
   "source": [
    "# prepare dict\n",
    "user_of_session = dict() # session_id as key\n",
    "for event in events:\n",
    "  session_id = event['session_id']\n",
    "  user_id = event['user_id']\n",
    "  if user_id != None and not session_id in user_of_session:\n",
    "    user_of_session[session_id] = user_id\n",
    "\n",
    "# complete the data    \n",
    "for event in events:\n",
    "  if event['user_id'] == None and event['session_id'] in user_of_session:\n",
    "    event['user_id'] = user_of_session[event['session_id']]\n",
    "\n",
    "# check\n",
    "print(\"Null users count: \", count_nones(events,'user_id'))"
   ]
  },
  {
   "cell_type": "markdown",
   "metadata": {
    "colab_type": "text",
    "id": "AtncGSOLR3Vy"
   },
   "source": [
    "Udało się usunąć większość braków. Usuńmy rekordy, których nie dało się wypełnić."
   ]
  },
  {
   "cell_type": "code",
   "execution_count": 22,
   "metadata": {
    "colab": {
     "base_uri": "https://localhost:8080/",
     "height": 34.0
    },
    "colab_type": "code",
    "id": "hTZxcfv8UMVd",
    "outputId": "2b4689c1-11da-467b-cd0f-f711f3143fa0"
   },
   "outputs": [
    {
     "name": "stdout",
     "output_type": "stream",
     "text": [
      "Null users count:  0\n"
     ]
    }
   ],
   "source": [
    "events = [e for e in events if e['user_id'] != None]\n",
    "# Check\n",
    "print(\"Null users count: \", count_nones(events,'user_id'))"
   ]
  },
  {
   "cell_type": "markdown",
   "metadata": {},
   "source": [
    "Po naprawieniu lub usunięciu niektórych rekordów udało się wyeliminować komórki `null` dla pola `user_id`."
   ]
  },
  {
   "cell_type": "markdown",
   "metadata": {
    "colab_type": "text",
    "id": "Y5LLAIwXN4Xt"
   },
   "source": [
    "Następnie przechodzimy do naprawy kolumny `product_id`.\n",
    "\n",
    "Niestety nie możemy nic zrobić z brakującymi wartościami `product_id`, ponieważ nie mamy możliwości ich uzupełnienia.\n",
    "Usuńmy rekordy z brakującymi danymi."
   ]
  },
  {
   "cell_type": "code",
   "execution_count": 23,
   "metadata": {
    "colab": {
     "base_uri": "https://localhost:8080/",
     "height": 34.0
    },
    "colab_type": "code",
    "id": "7dkVmOoZO0ev",
    "outputId": "a36cb2f0-1c2d-4e86-dcc0-ae2e3a8c918a"
   },
   "outputs": [
    {
     "name": "stdout",
     "output_type": "stream",
     "text": [
      "Null products count:  0\n"
     ]
    }
   ],
   "source": [
    "events = [e for e in events if e['product_id'] != None]\n",
    "# check\n",
    "print(\"Null products count: \", count_nones(events,'product_id'))"
   ]
  },
  {
   "cell_type": "markdown",
   "metadata": {},
   "source": [
    "Udało się wyeliminować niepożądane puste komórki.\n",
    "Zapiszmy dane."
   ]
  },
  {
   "cell_type": "code",
   "execution_count": 24,
   "metadata": {
    "pycharm": {
     "name": "#%%\n"
    }
   },
   "outputs": [],
   "source": [
    "import os\n",
    "import json\n",
    "\n",
    "folder = 'data'\n",
    "\n",
    "if not os.path.exists(folder):\n",
    "    os.makedirs(folder)\n",
    "\n",
    "with open(folder + '/events.json', 'w') as file:\n",
    "    json.dump(events,file, indent=2)\n"
   ]
  },
  {
   "cell_type": "markdown",
   "metadata": {
    "colab_type": "text",
    "id": "eaPEc1h6VqBx"
   },
   "source": [
    "### Analiza danych użytkowników\n"
   ]
  },
  {
   "cell_type": "code",
   "execution_count": 25,
   "metadata": {
    "colab": {
     "base_uri": "https://localhost:8080/",
     "height": 34.0
    },
    "colab_type": "code",
    "id": "AMFLI3N4V2NZ",
    "outputId": "afb749e4-a8e7-4087-fa5c-3e6b370282fe"
   },
   "outputs": [
    {
     "name": "stdout",
     "output_type": "stream",
     "text": [
      "<class 'pandas.core.frame.DataFrame'>\n",
      "RangeIndex: 200 entries, 0 to 199\n",
      "Data columns (total 4 columns):\n",
      " #   Column   Non-Null Count  Dtype \n",
      "---  ------   --------------  ----- \n",
      " 0   user_id  200 non-null    int64 \n",
      " 1   name     200 non-null    object\n",
      " 2   city     200 non-null    object\n",
      " 3   street   200 non-null    object\n",
      "dtypes: int64(1), object(3)\n",
      "memory usage: 6.4+ KB\n"
     ]
    }
   ],
   "source": [
    "with open(\"input_files/users.jsonl\") as file:\n",
    "  lines = [x.strip() for x in file.readlines()]\n",
    "  users = [json.loads(x) for x in lines]\n",
    "\n",
    "pd.DataFrame(users).info()"
   ]
  },
  {
   "cell_type": "markdown",
   "metadata": {
    "colab_type": "text",
    "id": "VoE2WgiNVs-8"
   },
   "source": [
    "Dane użytkowników wyglądają na kompletne. Jest zarejestrowanych 200 użytkowników."
   ]
  },
  {
   "cell_type": "markdown",
   "metadata": {},
   "source": [
    "Sprawdźmy, czy pole `user_id` z pliku `sessions` odpowiada polu `user_id` z pliku `users`"
   ]
  },
  {
   "cell_type": "code",
   "execution_count": 26,
   "metadata": {},
   "outputs": [],
   "source": [
    "user_ids = set(user['user_id'] for user in users)\n",
    "for event in events:\n",
    "    assert event['user_id'] in user_ids\n"
   ]
  },
  {
   "cell_type": "markdown",
   "metadata": {
    "pycharm": {
     "name": "#%% md\n"
    }
   },
   "source": [
    "Zapiszmy dane"
   ]
  },
  {
   "cell_type": "code",
   "execution_count": 27,
   "metadata": {
    "pycharm": {
     "name": "#%%\n"
    }
   },
   "outputs": [],
   "source": [
    "with open(folder + '/users.json', 'w') as file:\n",
    "    json.dump(users,file, indent=2)\n"
   ]
  },
  {
   "cell_type": "markdown",
   "metadata": {
    "colab_type": "text",
    "id": "krNzxAJqWAlL"
   },
   "source": [
    "### Analiza danych produktów"
   ]
  },
  {
   "cell_type": "code",
   "execution_count": 28,
   "metadata": {},
   "outputs": [],
   "source": [
    "products = []\n",
    "with open(\"input_files/products.jsonl\") as file:\n",
    "  lines = [x.strip() for x in file.readlines()]\n",
    "  for line in lines:\n",
    "    products.append(json.loads(line))\n",
    "\n",
    "df_products = pd.DataFrame(products)"
   ]
  },
  {
   "cell_type": "code",
   "execution_count": 29,
   "metadata": {},
   "outputs": [
    {
     "data": {
      "text/html": [
       "<div>\n",
       "<style scoped>\n",
       "    .dataframe tbody tr th:only-of-type {\n",
       "        vertical-align: middle;\n",
       "    }\n",
       "\n",
       "    .dataframe tbody tr th {\n",
       "        vertical-align: top;\n",
       "    }\n",
       "\n",
       "    .dataframe thead th {\n",
       "        text-align: right;\n",
       "    }\n",
       "</style>\n",
       "<table border=\"1\" class=\"dataframe\">\n",
       "  <thead>\n",
       "    <tr style=\"text-align: right;\">\n",
       "      <th></th>\n",
       "      <th>product_id</th>\n",
       "      <th>price</th>\n",
       "    </tr>\n",
       "  </thead>\n",
       "  <tbody>\n",
       "    <tr>\n",
       "      <th>count</th>\n",
       "      <td>319.000000</td>\n",
       "      <td>3.190000e+02</td>\n",
       "    </tr>\n",
       "    <tr>\n",
       "      <th>mean</th>\n",
       "      <td>1160.000000</td>\n",
       "      <td>3.432752e+06</td>\n",
       "    </tr>\n",
       "    <tr>\n",
       "      <th>std</th>\n",
       "      <td>92.231593</td>\n",
       "      <td>3.530967e+07</td>\n",
       "    </tr>\n",
       "    <tr>\n",
       "      <th>min</th>\n",
       "      <td>1001.000000</td>\n",
       "      <td>-3.777000e+03</td>\n",
       "    </tr>\n",
       "    <tr>\n",
       "      <th>25%</th>\n",
       "      <td>1080.500000</td>\n",
       "      <td>2.340000e+01</td>\n",
       "    </tr>\n",
       "    <tr>\n",
       "      <th>50%</th>\n",
       "      <td>1160.000000</td>\n",
       "      <td>3.990000e+01</td>\n",
       "    </tr>\n",
       "    <tr>\n",
       "      <th>75%</th>\n",
       "      <td>1239.500000</td>\n",
       "      <td>9.999000e+01</td>\n",
       "    </tr>\n",
       "    <tr>\n",
       "      <th>max</th>\n",
       "      <td>1319.000000</td>\n",
       "      <td>6.090000e+08</td>\n",
       "    </tr>\n",
       "  </tbody>\n",
       "</table>\n",
       "</div>"
      ],
      "text/plain": [
       "        product_id         price\n",
       "count   319.000000  3.190000e+02\n",
       "mean   1160.000000  3.432752e+06\n",
       "std      92.231593  3.530967e+07\n",
       "min    1001.000000 -3.777000e+03\n",
       "25%    1080.500000  2.340000e+01\n",
       "50%    1160.000000  3.990000e+01\n",
       "75%    1239.500000  9.999000e+01\n",
       "max    1319.000000  6.090000e+08"
      ]
     },
     "execution_count": 29,
     "metadata": {},
     "output_type": "execute_result"
    }
   ],
   "source": [
    "df_products.describe()"
   ]
  },
  {
   "cell_type": "code",
   "execution_count": 30,
   "metadata": {},
   "outputs": [
    {
     "name": "stdout",
     "output_type": "stream",
     "text": [
      "<class 'pandas.core.frame.DataFrame'>\n",
      "RangeIndex: 319 entries, 0 to 318\n",
      "Data columns (total 4 columns):\n",
      " #   Column         Non-Null Count  Dtype  \n",
      "---  ------         --------------  -----  \n",
      " 0   product_id     319 non-null    int64  \n",
      " 1   product_name   319 non-null    object \n",
      " 2   category_path  319 non-null    object \n",
      " 3   price          319 non-null    float64\n",
      "dtypes: float64(1), int64(1), object(2)\n",
      "memory usage: 10.1+ KB\n"
     ]
    }
   ],
   "source": [
    "df_products.info()"
   ]
  },
  {
   "cell_type": "markdown",
   "metadata": {
    "colab_type": "text",
    "id": "lIhR_8g_WQ6C"
   },
   "source": [
    "Po wstępnej analizie danych produktów dostrzegamy, że średnia (~1 mln), wartość minimalna (~-3000) oraz wartość maksymalna (~6e08) zdecydowanie odbiega od oczekiwań. Występują wartości ujemne oraz wartości, które są o kilka rzędów wielkości zawyżone."
   ]
  },
  {
   "cell_type": "code",
   "execution_count": 31,
   "metadata": {},
   "outputs": [
    {
     "name": "stdout",
     "output_type": "stream",
     "text": [
      "Ilość nieprawidłowych cen 31\n"
     ]
    }
   ],
   "source": [
    "wrong_products = [product for product in products if not (0 < product['price'] < 10000)]\n",
    "print(\"Ilość nieprawidłowych cen\", len(wrong_products))"
   ]
  },
  {
   "cell_type": "markdown",
   "metadata": {},
   "source": [
    "Rekordów produktów jest mało (319), a błednych jeszcze mniej (31). Dla poprawności modelu nie ma potrzeby, aby cena była znana dokładnie, ważny jest rząd wielkości. Najwygodniej będzie poprawić błędne rekordy ręcznie. Błędne ceny oszacujemy na podstawie naszej wiedzy eksperckiej na temat cen produktów w Internecie (czytaj: sprawdzimy w Google).\n",
    "\n",
    "Gdyby błędnych rekordów było dużo więcej, to można by było ten proces zautomatyzować."
   ]
  },
  {
   "cell_type": "markdown",
   "metadata": {
    "colab_type": "text",
    "id": "D9OfSEP_if_d"
   },
   "source": [
    "Spójrzmy na dane produktów po ręcznym skorygowaniu cen:"
   ]
  },
  {
   "cell_type": "code",
   "execution_count": 32,
   "metadata": {
    "colab": {
     "base_uri": "https://localhost:8080/",
     "height": 51.0
    },
    "colab_type": "code",
    "id": "iRuWHs1TilcA",
    "outputId": "97d155e6-c783-43eb-8250-40c8a7edcbb7"
   },
   "outputs": [
    {
     "data": {
      "text/html": [
       "<div>\n",
       "<style scoped>\n",
       "    .dataframe tbody tr th:only-of-type {\n",
       "        vertical-align: middle;\n",
       "    }\n",
       "\n",
       "    .dataframe tbody tr th {\n",
       "        vertical-align: top;\n",
       "    }\n",
       "\n",
       "    .dataframe thead th {\n",
       "        text-align: right;\n",
       "    }\n",
       "</style>\n",
       "<table border=\"1\" class=\"dataframe\">\n",
       "  <thead>\n",
       "    <tr style=\"text-align: right;\">\n",
       "      <th></th>\n",
       "      <th>product_id</th>\n",
       "      <th>price</th>\n",
       "    </tr>\n",
       "  </thead>\n",
       "  <tbody>\n",
       "    <tr>\n",
       "      <th>count</th>\n",
       "      <td>319.000000</td>\n",
       "      <td>319.000000</td>\n",
       "    </tr>\n",
       "    <tr>\n",
       "      <th>mean</th>\n",
       "      <td>1160.000000</td>\n",
       "      <td>247.905455</td>\n",
       "    </tr>\n",
       "    <tr>\n",
       "      <th>std</th>\n",
       "      <td>92.231593</td>\n",
       "      <td>813.757150</td>\n",
       "    </tr>\n",
       "    <tr>\n",
       "      <th>min</th>\n",
       "      <td>1001.000000</td>\n",
       "      <td>1.000000</td>\n",
       "    </tr>\n",
       "    <tr>\n",
       "      <th>25%</th>\n",
       "      <td>1080.500000</td>\n",
       "      <td>24.990000</td>\n",
       "    </tr>\n",
       "    <tr>\n",
       "      <th>50%</th>\n",
       "      <td>1160.000000</td>\n",
       "      <td>41.000000</td>\n",
       "    </tr>\n",
       "    <tr>\n",
       "      <th>75%</th>\n",
       "      <td>1239.500000</td>\n",
       "      <td>94.265000</td>\n",
       "    </tr>\n",
       "    <tr>\n",
       "      <th>max</th>\n",
       "      <td>1319.000000</td>\n",
       "      <td>7639.000000</td>\n",
       "    </tr>\n",
       "  </tbody>\n",
       "</table>\n",
       "</div>"
      ],
      "text/plain": [
       "        product_id        price\n",
       "count   319.000000   319.000000\n",
       "mean   1160.000000   247.905455\n",
       "std      92.231593   813.757150\n",
       "min    1001.000000     1.000000\n",
       "25%    1080.500000    24.990000\n",
       "50%    1160.000000    41.000000\n",
       "75%    1239.500000    94.265000\n",
       "max    1319.000000  7639.000000"
      ]
     },
     "execution_count": 32,
     "metadata": {},
     "output_type": "execute_result"
    }
   ],
   "source": [
    "products = []\n",
    "with open(\"input_files/products_fix.jsonl\") as file:\n",
    "  lines = [x.strip() for x in file.readlines()]\n",
    "  for line in lines:\n",
    "    products.append(json.loads(line))\n",
    "\n",
    "pd.DataFrame(products).describe()"
   ]
  },
  {
   "cell_type": "markdown",
   "metadata": {
    "colab_type": "text",
    "id": "mQzdM7S3lcs4"
   },
   "source": [
    "Po poprawieniu nie mamy cen ujemnych ani większych od 10000. Sprawdźmy ceny wysokie."
   ]
  },
  {
   "cell_type": "code",
   "execution_count": 33,
   "metadata": {
    "colab": {
     "base_uri": "https://localhost:8080/",
     "height": 323.0
    },
    "colab_type": "code",
    "id": "VU3yS_rXlpJF",
    "outputId": "8a88374e-3054-4544-e5aa-3af2d3e9d74a"
   },
   "outputs": [
    {
     "name": "stdout",
     "output_type": "stream",
     "text": [
      "2048.5 -- Kyocera FS-1135MFP\n",
      "7639.0 -- Kyocera FS-3640MFP\n",
      "3029.0 -- LCD Iiyama T1932MSC\n",
      "1079.0 -- LCD NEC EA223WM\n",
      "2199.9 -- Samsung Galaxy S III GT-i9300\n",
      "1117.01 -- LCD Asus VK278Q\n",
      "1419.0 -- LCD Asus PA248Q\n",
      "2065.0 -- LCD Iiyama T1931SR\n",
      "1998.14 -- Ricoh SG3110DN\n",
      "2399.0 -- Samsung CLX-6260FR ### Gadżety Samsung ### Eksploatacja -10% ### Negocjuj Cenę ### Raty ### Szybkie Płatności ### Szybka Wysyłka\n",
      "3777.0 -- Kyocera FS-C2026MFP\n",
      "5126.0 -- Kyocera FS-3540MFP\n",
      "4598.0 -- Kyocera FS-3040MFP\n",
      "5301.9 -- Kyocera FS-3140MFP\n",
      "5259.0 -- OKI B840dn\n",
      "1816.97 -- Apple iPad mini 64GB\n",
      "2317.02 -- Apple iPad mini 64GB 4G\n",
      "1303.96 -- Plantronics Savi W740\n"
     ]
    }
   ],
   "source": [
    "for p in products:\n",
    "  if p[\"price\"] > 1000:\n",
    "    print(p['price'],\"--\",p[\"product_name\"])"
   ]
  },
  {
   "cell_type": "markdown",
   "metadata": {
    "colab_type": "text",
    "id": "P_1fus4cl9u0"
   },
   "source": [
    "Wszystkie ceny mieszczą się w przedziale `(0 ; 10 000)`. Wszystkie powyżej `1000 zł` są uzasadnione, ponieważ dotyczą produktów faktycznie drogich.\n",
    "Zapiszmy dane."
   ]
  },
  {
   "cell_type": "code",
   "execution_count": 34,
   "metadata": {
    "pycharm": {
     "name": "#%%\n"
    }
   },
   "outputs": [],
   "source": [
    "with open(folder + '/products.json', 'w') as file:\n",
    "    json.dump(products,file, indent=2)\n"
   ]
  },
  {
   "cell_type": "markdown",
   "metadata": {},
   "source": [
    "## Analiza danych dostaw\n",
    "\n",
    "Nie przeprowadzono analizy danych dostaw, ponieważ nie będą wykorzystywane przy projekcie."
   ]
  },
  {
   "cell_type": "markdown",
   "metadata": {
    "colab_type": "text",
    "id": "WI2MwnloJoJo"
   },
   "source": [
    "## Założenia analityczno-techniczne\n"
   ]
  },
  {
   "cell_type": "markdown",
   "metadata": {
    "colab_type": "text",
    "id": "XprHPMgiKHle"
   },
   "source": [
    "Projekt będzie realizowany w języku Python 3. Cała dokumentacja i realizacja projektu znajduje się w jednym pliku typu Jupyter Notebook. Realizacja zostanie na końcu projektu wyeksportowana do pliku i skompresowana narzędziem _zip_. Dane zostają wczytane z 3 plików: *products_fix.jsonl*, _sessions.jsonl_ oraz _users.jsonl_."
   ]
  }
 ],
 "metadata": {
  "colab": {
   "name": "eshop-prediction.ipynb",
   "provenance": []
  },
  "kernelspec": {
   "display_name": "Python 3",
   "language": "python",
   "name": "python3"
  },
  "language_info": {
   "codemirror_mode": {
    "name": "ipython",
    "version": 3
   },
   "file_extension": ".py",
   "mimetype": "text/x-python",
   "name": "python",
   "nbconvert_exporter": "python",
   "pygments_lexer": "ipython3",
   "version": "3.8.3"
  }
 },
 "nbformat": 4,
 "nbformat_minor": 1
}
