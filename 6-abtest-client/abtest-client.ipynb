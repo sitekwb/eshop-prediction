{
 "cells": [
  {
   "cell_type": "code",
   "execution_count": 103,
   "metadata": {
    "collapsed": true,
    "pycharm": {
     "name": "#%%\n"
    }
   },
   "outputs": [],
   "source": [
    "import json\n",
    "import numpy as np\n",
    "import requests\n",
    "from tqdm import tqdm\n",
    "\n",
    "url = \"http://127.0.0.1:8000/\"\n",
    "# /predict POST -> all 30 attributes\n",
    "# /conversion POST -> user_id, value\n",
    "# /resultsAB GET -> get all conversions in JSON\n",
    "# /resetAB POST -> reset memory of conversions\n",
    "\n",
    "headers = {\n",
    "    'Content-Type': 'application/json'\n",
    "}"
   ]
  },
  {
   "cell_type": "code",
   "execution_count": 104,
   "outputs": [],
   "source": [
    "reset_response = requests.request(\"POST\", url+'resetAB/')\n"
   ],
   "metadata": {
    "collapsed": false,
    "pycharm": {
     "name": "#%%\n"
    }
   }
  },
  {
   "cell_type": "code",
   "execution_count": 105,
   "outputs": [
    {
     "name": "stdout",
     "output_type": "stream",
     "text": [
      "Processing  1000  events...\n"
     ]
    }
   ],
   "source": [
    "N = 1000\n",
    "print(\"Processing \",N,\" events...\")"
   ],
   "metadata": {
    "collapsed": false,
    "pycharm": {
     "name": "#%%\n"
    }
   }
  },
  {
   "cell_type": "code",
   "execution_count": 106,
   "outputs": [
    {
     "name": "stderr",
     "output_type": "stream",
     "text": [
      "100%|██████████| 1000/1000 [00:22<00:00, 43.48it/s]\n"
     ]
    }
   ],
   "source": [
    "for i in tqdm(range(N)):\n",
    "    # generator of attributes\n",
    "    attributes = dict()\n",
    "    attributes['user_id'] = i\n",
    "    attributes['price'] = round(np.random.normal(2000, 1000),0)\n",
    "    attributes['product_views_count'] = int(abs(round(np.random.normal(0, 15), 0)))\n",
    "    attributes['category_view_count'] = int(abs(round(np.random.normal(0, 11), 0)))\n",
    "    attributes['bought_with_lower_count'] = int(abs(round(np.random.normal(0, 6), 0)))\n",
    "    attributes['bought_category_count'] = int(abs(round(np.random.normal(0, 7), 0)))\n",
    "    attributes['time'] = abs(round(np.random.normal(0, 1000), 2))\n",
    "    city_index = int(round(np.random.uniform(0, 7), 0))\n",
    "    for j in range(8):\n",
    "        attributes['one_hot_city' + str(j)] = 1 if j == city_index else 0\n",
    "\n",
    "    category_index = round(np.random.uniform(0, 14))\n",
    "    for j in range(15):\n",
    "        attributes['one_hot_category' + str(j)] = 1 if j == category_index else 0\n",
    "\n",
    "    # send request for predictions of discount\n",
    "    json_data = json.dumps(attributes, ensure_ascii=True)\n",
    "    response = requests.request(\"POST\", url+'predict/', headers=headers, data=json_data)\n",
    "\n",
    "    #%%\n",
    "\n",
    "    discount = response.json()['discount']\n",
    "\n",
    "    #%%\n",
    "\n",
    "    # generate decision about buying\n",
    "    import random\n",
    "    rand_num = random.random()\n",
    "    probability = (discount/100.0 + 0.1)\n",
    "    buying = (rand_num < probability)\n",
    "    # print(\"rand_num: \", rand_num)\n",
    "    # print()\n",
    "    # print(\"Decision \", i, \" = \",buying)\n",
    "\n",
    "\n",
    "    # if buying then post conversion to server\n",
    "    if not buying:\n",
    "        continue\n",
    "    conversion_dictionary = dict()\n",
    "    conversion_dictionary['user_id'] = i\n",
    "    conversion_dictionary['value'] = float(attributes['price']*(40-discount)/100)\n",
    "    conversion_data = json.dumps(conversion_dictionary)\n",
    "    conversion_response = requests.request(\"POST\", url+'conversion/', headers=headers, data=conversion_data)\n",
    "    # print(conversion_response.content)"
   ],
   "metadata": {
    "collapsed": false,
    "pycharm": {
     "name": "#%%\n"
    }
   }
  },
  {
   "cell_type": "code",
   "execution_count": 107,
   "outputs": [
    {
     "name": "stdout",
     "output_type": "stream",
     "text": [
      "Dummy conversion number:  74\n",
      "Tuned conversion number:  142\n",
      "\n",
      "\n",
      "Dummy conversion value:  47501.5\n",
      "Tuned conversion value:  85312.5\n"
     ]
    }
   ],
   "source": [
    "# after all actions\n",
    "\n",
    "# get all conversions in JSON\n",
    "all_conversions = requests.request(\"GET\", url+'resultsAB/')\n",
    "conversions = all_conversions.json()\n",
    "\n",
    "# count conversions and print results\n",
    "value0 = 0\n",
    "value1 = 0\n",
    "\n",
    "count0 = 0\n",
    "count1 = 0\n",
    "for conversion in conversions:\n",
    "    if int(conversion['model_id']) == 0:\n",
    "        value0 += float(conversion['value'])\n",
    "        count0 += 1\n",
    "    else:\n",
    "        value1 += float(conversion['value'])\n",
    "        count1 += 1\n",
    "print(\"Dummy conversion number: \", count0)\n",
    "print(\"Tuned conversion number: \", count1)\n",
    "\n",
    "print('\\n')\n",
    "\n",
    "print(\"Dummy conversion value: \", round(value0, 2))\n",
    "print(\"Tuned conversion value: \", round(value1, 2))"
   ],
   "metadata": {
    "collapsed": false,
    "pycharm": {
     "name": "#%%\n"
    }
   }
  }
 ],
 "metadata": {
  "kernelspec": {
   "name": "pycharm-abe1d7a7",
   "language": "python",
   "display_name": "PyCharm (eshop-prediction)"
  },
  "language_info": {
   "codemirror_mode": {
    "name": "ipython",
    "version": 2
   },
   "file_extension": ".py",
   "mimetype": "text/x-python",
   "name": "python",
   "nbconvert_exporter": "python",
   "pygments_lexer": "ipython2",
   "version": "2.7.6"
  }
 },
 "nbformat": 4,
 "nbformat_minor": 0
}