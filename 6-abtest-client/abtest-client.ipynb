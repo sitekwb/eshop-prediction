{
 "cells": [
  {
   "cell_type": "code",
   "execution_count": 4,
   "metadata": {
    "collapsed": true,
    "pycharm": {
     "name": "#%%\n"
    }
   },
   "outputs": [],
   "source": [
    "import json\n",
    "import numpy as np\n",
    "import requests\n",
    "from tqdm import tqdm"
   ]
  },
  {
   "cell_type": "markdown",
   "source": [
    "# Klient eksperymentu AB\n",
    "- klient eksperymentu AB służy do przetestowania, czy:\n",
    "    - działają predykcje wytrenowanego modelu oraz modelu bazowego\n",
    "    - działa serwer z REST API wraz z testami AB\n",
    "    - działa eksperyment AB\n",
    "- Wykonano następujące działania w poniższym notatniku:\n",
    "    - zresetowanie bazy konwersji w serwerze\n",
    "    - inicjalizacja liczby przetwarzanych wydarzeń - 10000\n",
    "    - pętla generowania wydarzeń i zapytań o predykcje\n",
    "    - podsumowanie testu AB\n",
    "- Przed uruchomieniem notatnika należy uruchomić serwer (instrukcja w [README.md](../README.md))"
   ],
   "metadata": {
    "collapsed": false,
    "pycharm": {
     "name": "#%% md\n"
    }
   }
  },
  {
   "cell_type": "code",
   "execution_count": 5,
   "outputs": [],
   "source": [
    "url = \"http://127.0.0.1:8000/\"\n",
    "# /predict POST -> all 30 attributes\n",
    "# /conversion POST -> user_id, value\n",
    "# /resultsAB GET -> get all conversions in JSON\n",
    "# /resetAB POST -> reset memory of conversions\n",
    "\n",
    "headers = {\n",
    "    'Content-Type': 'application/json'\n",
    "}\n"
   ],
   "metadata": {
    "collapsed": false,
    "pycharm": {
     "name": "#%%\n"
    }
   }
  },
  {
   "cell_type": "markdown",
   "source": [
    "### Zresetowanie bazy konwersji w serwerze"
   ],
   "metadata": {
    "collapsed": false,
    "pycharm": {
     "name": "#%% md\n"
    }
   }
  },
  {
   "cell_type": "code",
   "execution_count": 6,
   "outputs": [],
   "source": [
    "reset_response = requests.request(\"POST\", url+'resetAB/')"
   ],
   "metadata": {
    "collapsed": false,
    "pycharm": {
     "name": "#%%\n"
    }
   }
  },
  {
   "cell_type": "markdown",
   "source": [
    "### Inicjalizacja liczby przetwarzanych wydarzeń - 10000"
   ],
   "metadata": {
    "collapsed": false,
    "pycharm": {
     "name": "#%% md\n"
    }
   }
  },
  {
   "cell_type": "code",
   "execution_count": 7,
   "outputs": [
    {
     "name": "stdout",
     "output_type": "stream",
     "text": [
      "Processing 10000 events...\n"
     ]
    }
   ],
   "source": [
    "N = 10000\n",
    "print(\"Processing\",N,\"events...\")"
   ],
   "metadata": {
    "collapsed": false,
    "pycharm": {
     "name": "#%%\n"
    }
   }
  },
  {
   "cell_type": "markdown",
   "source": [
    "### Pętla generowania wydarzeń i zapytań o predykcje\n",
    "- pętla generuje zadaną liczbę wydarzeń.\n",
    "- na początku występuje generator atrybutów, który z możliwie prostym rozkładem (normalnym lub jednostajnym) generuje losowe atrybuty o podobnym rzędzie wielkości do atrybutów z danych wejściowych\n",
    "- wysyłane są zapytania do serwera z listą atrybutów z prośbą o predykcję optymalnej zniżki\n",
    "- wykonywany jest test AB:\n",
    "    - id użytkownika to po prostu wartość zmiennej i - numer itercji pętli - dzięki temu jest równo połowa użytkowników o parzystych numerach id i druga połowa o nieparzystych numerach id. Są więc spełnione warunki eksperymentu AB.\n",
    "    - dla parzystych identyfikatorów użytkownika (funkcja mieszająca to id % 2) wykonywana jest predykcja z modelu \"dummy\" (modelu bazowego), który z rozkładem jednostajnym losuje prawdopodobieństwo, że klient kupi przy danej zniżce. Po analizie wszystkich zniżek serwer zwraca najlepszą zniżkę.\n",
    "    - dla nieparzystych identyfikatorów użytkownika wykonywane są predykcje za pomocą modelu \"tuned\", wytrenowanego przez nas w [tym notatniku](../4-train/train.ipynb).\n",
    "    - klient pobiera zniżkę i z wprost proporcjonalnym prawdopodobieństwem do wysokości zniżki klient generuje decyzję o zakupie produktu lub nie\n",
    "    - jeśli klient kupił produkt, wysyła informację do serswera o tzw. konwersji, czyli zysku.\n",
    "    - model zapisuje wyniki"
   ],
   "metadata": {
    "collapsed": false,
    "pycharm": {
     "name": "#%% md\n"
    }
   }
  },
  {
   "cell_type": "code",
   "execution_count": 8,
   "outputs": [
    {
     "name": "stderr",
     "output_type": "stream",
     "text": [
      "100%|██████████| 10000/10000 [04:07<00:00, 40.44it/s]\n"
     ]
    }
   ],
   "source": [
    "for i in tqdm(range(N)):\n",
    "    # generator of attributes\n",
    "    attributes = dict()\n",
    "    attributes['user_id'] = i\n",
    "    attributes['price'] = round(np.random.normal(2000, 1000),0)\n",
    "    attributes['product_views_count'] = int(abs(round(np.random.normal(0, 15), 0)))\n",
    "    attributes['category_view_count'] = int(abs(round(np.random.normal(0, 11), 0)))\n",
    "    attributes['bought_with_lower_count'] = int(abs(round(np.random.normal(0, 6), 0)))\n",
    "    attributes['bought_category_count'] = int(abs(round(np.random.normal(0, 7), 0)))\n",
    "    attributes['time'] = abs(round(np.random.normal(0, 1000), 2))\n",
    "    city_index = int(round(np.random.uniform(0, 7), 0))\n",
    "    for j in range(8):\n",
    "        attributes['one_hot_city' + str(j)] = 1 if j == city_index else 0\n",
    "\n",
    "    category_index = round(np.random.uniform(0, 14))\n",
    "    for j in range(15):\n",
    "        attributes['one_hot_category' + str(j)] = 1 if j == category_index else 0\n",
    "\n",
    "    # send request for predictions of discount\n",
    "    json_data = json.dumps(attributes, ensure_ascii=True)\n",
    "    response = requests.request(\"POST\", url+'predict/', headers=headers, data=json_data)\n",
    "\n",
    "    #%%\n",
    "\n",
    "    discount = response.json()['discount']\n",
    "\n",
    "    #%%\n",
    "\n",
    "    # generate decision about buying\n",
    "    import random\n",
    "    rand_num = random.random()\n",
    "    probability = (discount/100.0 + 0.1)\n",
    "    buying = (rand_num < probability)\n",
    "    # print(\"rand_num: \", rand_num)\n",
    "    # print()\n",
    "    # print(\"Decision \", i, \" = \",buying)\n",
    "\n",
    "\n",
    "    # if buying then post conversion to server\n",
    "    if not buying:\n",
    "        continue\n",
    "    conversion_dictionary = dict()\n",
    "    conversion_dictionary['user_id'] = i\n",
    "    conversion_dictionary['value'] = float(attributes['price']*(40-discount)/100)\n",
    "    conversion_data = json.dumps(conversion_dictionary)\n",
    "    conversion_response = requests.request(\"POST\", url+'conversion/', headers=headers, data=conversion_data)\n",
    "    # print(conversion_response.content)"
   ],
   "metadata": {
    "collapsed": false,
    "pycharm": {
     "name": "#%%\n"
    }
   }
  },
  {
   "cell_type": "markdown",
   "source": [
    "### Podsumowanie testu AB\n",
    "- po wykonaniu wszystkich wydarzeń notatnik przechodzi do ewaluacji testu AB\n",
    "- nie jest to już część klienta systemu, ale dla wygody jest umieszczona w tym samym notatniku\n",
    "- pobierane są konwersje z serwera\n",
    "- zliczana jest liczba zakupów i wartość zysku zależnie od wybranego modelu\n",
    "- prezentowane są wyniki testu"
   ],
   "metadata": {
    "collapsed": false,
    "pycharm": {
     "name": "#%% md\n"
    }
   }
  },
  {
   "cell_type": "code",
   "execution_count": 9,
   "outputs": [
    {
     "name": "stdout",
     "output_type": "stream",
     "text": [
      "Dummy conversion number:  725\n",
      "Tuned conversion number:  1108\n",
      "\n",
      "\n",
      "Dummy conversion value:  468982.35\n",
      "Tuned conversion value:  581949.7\n"
     ]
    }
   ],
   "source": [
    "# after all actions\n",
    "\n",
    "# get all conversions in JSON\n",
    "all_conversions = requests.request(\"GET\", url+'resultsAB/')\n",
    "conversions = all_conversions.json()\n",
    "\n",
    "# count conversions and print results\n",
    "value0 = 0\n",
    "value1 = 0\n",
    "\n",
    "count0 = 0\n",
    "count1 = 0\n",
    "for conversion in conversions:\n",
    "    if int(conversion['model_id']) == 0:\n",
    "        value0 += float(conversion['value'])\n",
    "        count0 += 1\n",
    "    else:\n",
    "        value1 += float(conversion['value'])\n",
    "        count1 += 1\n",
    "print(\"Dummy conversion number: \", count0)\n",
    "print(\"Tuned conversion number: \", count1)\n",
    "\n",
    "print('\\n')\n",
    "\n",
    "print(\"Dummy conversion value: \", round(value0, 2))\n",
    "print(\"Tuned conversion value: \", round(value1, 2))"
   ],
   "metadata": {
    "collapsed": false,
    "pycharm": {
     "name": "#%%\n"
    }
   }
  }
 ],
 "metadata": {
  "kernelspec": {
   "name": "pycharm-abe1d7a7",
   "language": "python",
   "display_name": "PyCharm (eshop-prediction)"
  },
  "language_info": {
   "codemirror_mode": {
    "name": "ipython",
    "version": 2
   },
   "file_extension": ".py",
   "mimetype": "text/x-python",
   "name": "python",
   "nbconvert_exporter": "python",
   "pygments_lexer": "ipython2",
   "version": "2.7.6"
  }
 },
 "nbformat": 4,
 "nbformat_minor": 0
}