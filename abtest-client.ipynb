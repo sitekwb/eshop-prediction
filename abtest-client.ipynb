{
 "cells": [
  {
   "cell_type": "code",
   "execution_count": 20,
   "metadata": {
    "collapsed": true,
    "pycharm": {
     "name": "#%%\n"
    }
   },
   "outputs": [],
   "source": [
    "import json\n",
    "import numpy as np\n",
    "import requests\n",
    "\n",
    "url = \"http://127.0.0.1:8000/\"\n",
    "# /predict POST -> all 30 attributes\n",
    "# /conversion POST -> user_id, value\n",
    "# /resultsAB GET -> get all conversions in JSON\n",
    "# /resetAB POST -> reset memory of conversions\n",
    "\n",
    "headers = {\n",
    "    'Content-Type': 'application/json'\n",
    "}"
   ]
  },
  {
   "cell_type": "code",
   "execution_count": 21,
   "outputs": [
    {
     "name": "stdout",
     "output_type": "stream",
     "text": [
      "Processing  1  events...\n"
     ]
    }
   ],
   "source": [
    "N = 1\n",
    "print(\"Processing \",N,\" events...\")"
   ],
   "metadata": {
    "collapsed": false,
    "pycharm": {
     "name": "#%%\n"
    }
   }
  },
  {
   "cell_type": "code",
   "execution_count": 22,
   "outputs": [
    {
     "name": "stdout",
     "output_type": "stream",
     "text": [
      "b'{\"id\":1,\"model_id\":0,\"value\":-21078}'\n"
     ]
    }
   ],
   "source": [
    "for i in range(N):\n",
    "    # generator of attributes\n",
    "    attributes = dict()\n",
    "    attributes['user_id'] = i\n",
    "    attributes['price'] = round(np.random.normal(2000, 1000),0)\n",
    "    attributes['product_views_count'] = int(abs(round(np.random.normal(0, 15), 0)))\n",
    "    attributes['category_view_count'] = int(abs(round(np.random.normal(0, 11), 0)))\n",
    "    attributes['bought_with_lower_count'] = int(abs(round(np.random.normal(0, 6), 0)))\n",
    "    attributes['bought_category_count'] = int(abs(round(np.random.normal(0, 7), 0)))\n",
    "    attributes['time'] = abs(round(np.random.normal(0, 1000), 2))\n",
    "    city_index = int(round(np.random.uniform(0, 7), 0))\n",
    "    for i in range(8):\n",
    "        attributes['one_hot_city' + str(i)] = 1 if i == city_index else 0\n",
    "\n",
    "    category_index = round(np.random.uniform(0, 14))\n",
    "    for i in range(15):\n",
    "        attributes['one_hot_category' + str(i)] = 1 if i == category_index else 0\n",
    "\n",
    "    # send request for predictions of discount\n",
    "    json_data = json.dumps(attributes, ensure_ascii=True)\n",
    "    response = requests.request(\"POST\", url+'predict/', headers=headers, data=json_data)\n",
    "\n",
    "    #%%\n",
    "\n",
    "    discount = response.json()['discount']\n",
    "\n",
    "    #%%\n",
    "\n",
    "    # generate decision about buying\n",
    "    import random\n",
    "    decision = random.random() < (discount/100.0 + 0.1)\n",
    "    # if buying then post conversion to server\n",
    "    conversion_dictionary = dict()\n",
    "    conversion_dictionary['user_id'] = i\n",
    "    conversion_dictionary['value'] = int(attributes['price']*(0.3-discount)) # TODO change to float\n",
    "    conversion_data = json.dumps(conversion_dictionary)\n",
    "    conversion_response = requests.request(\"POST\", url+'conversion/', headers=headers, data=conversion_data)\n",
    "    print(conversion_response.content)"
   ],
   "metadata": {
    "collapsed": false,
    "pycharm": {
     "name": "#%%\n"
    }
   }
  },
  {
   "cell_type": "code",
   "execution_count": 23,
   "outputs": [
    {
     "name": "stdout",
     "output_type": "stream",
     "text": [
      "Conversion value for dummy base model:  -21078\n",
      "Conversion value for tuned model:       -21078\n"
     ]
    }
   ],
   "source": [
    "# after all actions\n",
    "\n",
    "# get all conversions in JSON\n",
    "all_conversions = requests.request(\"GET\", url+'resultsAB/')\n",
    "conversions = all_conversions.json()\n",
    "\n",
    "# count conversions and print results\n",
    "value0 = 0\n",
    "value1 = 0\n",
    "for conversion in conversions:\n",
    "    if conversion['model_id'] == 0:\n",
    "        value0 += conversion['value']\n",
    "    else:\n",
    "        value1 += conversion['value']\n",
    "\n",
    "print(\"Conversion value for dummy base model: \", value0)\n",
    "print(\"Conversion value for tuned model:      \", value0)"
   ],
   "metadata": {
    "collapsed": false,
    "pycharm": {
     "name": "#%%\n"
    }
   }
  }
 ],
 "metadata": {
  "kernelspec": {
   "name": "pycharm-abe1d7a7",
   "language": "python",
   "display_name": "PyCharm (eshop-prediction)"
  },
  "language_info": {
   "codemirror_mode": {
    "name": "ipython",
    "version": 2
   },
   "file_extension": ".py",
   "mimetype": "text/x-python",
   "name": "python",
   "nbconvert_exporter": "python",
   "pygments_lexer": "ipython2",
   "version": "2.7.6"
  }
 },
 "nbformat": 4,
 "nbformat_minor": 0
}