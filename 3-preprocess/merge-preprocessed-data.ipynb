{
 "cells": [
  {
   "cell_type": "code",
   "execution_count": 9,
   "metadata": {
    "collapsed": true
   },
   "outputs": [],
   "source": [
    "import json\n",
    "\n",
    "with open('records.json') as file:\n",
    "    events1 = json.load(file)\n",
    "\n",
    "with open('records2.json') as file:\n",
    "    events2 = json.load(file)\n",
    "\n",
    "for e1,e2 in zip(events1,events2):\n",
    "    e1.update(e2)\n",
    "\n",
    "    del e1['city']\n",
    "    del e1['bought']\n",
    "    del e1['session_id']\n",
    "    del e1['user_id']\n",
    "\n",
    "with open('records-merged.json', 'w') as file:\n",
    "    json.dump(events1, file, indent=2)"
   ]
  }
 ],
 "metadata": {
  "kernelspec": {
   "display_name": "Python 3",
   "language": "python",
   "name": "python3"
  },
  "language_info": {
   "codemirror_mode": {
    "name": "ipython",
    "version": 2
   },
   "file_extension": ".py",
   "mimetype": "text/x-python",
   "name": "python",
   "nbconvert_exporter": "python",
   "pygments_lexer": "ipython2",
   "version": "2.7.6"
  }
 },
 "nbformat": 4,
 "nbformat_minor": 0
}