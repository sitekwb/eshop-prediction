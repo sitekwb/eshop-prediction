{
 "cells": [
  {
   "cell_type": "code",
   "execution_count": null,
   "metadata": {
    "collapsed": true
   },
   "outputs": [],
   "source": [
    "import json\n",
    "from datetime import datetime\n",
    "import pandas as pd"
   ]
  },
  {
   "cell_type": "code",
   "execution_count": null,
   "outputs": [],
   "source": [
    "folder = '../2-data'\n",
    "\n",
    "with open(folder + '/events.json') as file:\n",
    "    events_list = json.load(file)\n",
    "\n",
    "with open(folder + '/products.json') as file:\n",
    "    products_list = json.load(file)\n",
    "\n",
    "with open(folder + '/users.json') as file:\n",
    "    users_list = json.load(file)"
   ],
   "metadata": {
    "collapsed": false,
    "pycharm": {
     "name": "#%%\n"
    }
   }
  },
  {
   "cell_type": "code",
   "execution_count": null,
   "outputs": [],
   "source": [
    "cities = [user['city'] for user in users_list]\n",
    "user_ids = [user['user_id'] for user in users_list]\n",
    "\n",
    "\n",
    "one_hot_cities = pd.get_dummies(cities).values.tolist()\n",
    "one_hot_cities = dict(zip(user_ids, one_hot_cities))\n",
    "\n",
    "products = dict()\n",
    "\n",
    "prices = dict()\n",
    "categories = list()\n",
    "product_ids = list()\n",
    "\n",
    "for product in products_list:\n",
    "    pr_id = product['product_id']\n",
    "    prices[pr_id] = product['price']\n",
    "    categories.append(product['category_path'])\n",
    "    product_ids.append(pr_id)\n",
    "\n",
    "one_hot_categories = pd.get_dummies(categories).values.tolist()\n",
    "one_hot_categories = dict(zip(product_ids, one_hot_categories))\n"
   ],
   "metadata": {
    "collapsed": false,
    "pycharm": {
     "name": "#%%\n"
    }
   }
  },
  {
   "cell_type": "code",
   "execution_count": null,
   "outputs": [],
   "source": [
    "events = []\n",
    "buys = []\n",
    "\n",
    "last_session_id = -1\n",
    "\n",
    "time = 0\n",
    "last_datetime = datetime.now()\n",
    "\n",
    "for event in events_list:\n",
    "    # time\n",
    "\n",
    "    if event['event_type'] == 'BUY_PRODUCT':\n",
    "        buys[-1] = 1\n",
    "        continue\n",
    "\n",
    "    current_datetime = datetime.strptime(event['timestamp'], '%Y-%m-%dT%H:%M:%S')\n",
    "    time = current_datetime - last_datetime\n",
    "    last_datetime = current_datetime\n",
    "\n",
    "    current_session_id = event[\"session_id\"]\n",
    "    if last_session_id != current_session_id:\n",
    "        last_session_id = current_session_id\n",
    "        time = current_datetime - current_datetime\n",
    "\n",
    "    time = time.total_seconds()\n",
    "\n",
    "    events_dict = {'session_id': event['session_id'],\n",
    "                   'user_id': event['user_id'],\n",
    "                   'time': time,\n",
    "                   'price': prices[event['product_id']],\n",
    "                   'discount': event[\"offered_discount\"]\n",
    "                   }\n",
    "\n",
    "    # cities\n",
    "    one_hot_cities_list = one_hot_cities[event['user_id']]\n",
    "    i = 0\n",
    "    for one_hot in one_hot_cities_list:\n",
    "        events_dict['one_hot_city' + str(i)] = one_hot\n",
    "        i += 1\n",
    "\n",
    "    # TODO categories\n",
    "    one_hot_categories_list = one_hot_categories[event['product_id']]\n",
    "    i = 0\n",
    "    for one_hot in one_hot_categories_list:\n",
    "        events_dict['one_hot_category' + str(i)] = one_hot\n",
    "        i += 1\n",
    "\n",
    "    buys.append(0)\n",
    "    events.append(events_dict)"
   ],
   "metadata": {
    "collapsed": false,
    "pycharm": {
     "name": "#%%\n"
    }
   }
  },
  {
   "cell_type": "code",
   "execution_count": null,
   "outputs": [],
   "source": [
    "with open('records2.json', 'w') as file:\n",
    "    json.dump(events,\n",
    "              file, indent=2)\n",
    "\n",
    "with open('../buys2.json', 'w') as file:\n",
    "    json.dump(buys,\n",
    "              file, indent=2)\n",
    "\n",
    "print(\"Zapisano rekordy w pliku json\")"
   ],
   "metadata": {
    "collapsed": false,
    "pycharm": {
     "name": "#%%\n"
    }
   }
  }
 ],
 "metadata": {
  "kernelspec": {
   "display_name": "Python 3",
   "language": "python",
   "name": "python3"
  },
  "language_info": {
   "codemirror_mode": {
    "name": "ipython",
    "version": 2
   },
   "file_extension": ".py",
   "mimetype": "text/x-python",
   "name": "python",
   "nbconvert_exporter": "python",
   "pygments_lexer": "ipython2",
   "version": "2.7.6"
  }
 },
 "nbformat": 4,
 "nbformat_minor": 0
}