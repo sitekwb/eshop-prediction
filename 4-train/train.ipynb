{
 "cells": [
  {
   "cell_type": "code",
   "execution_count": 1,
   "metadata": {
    "collapsed": true
   },
   "outputs": [],
   "source": [
    "from sklearn.model_selection import train_test_split\n",
    "import json\n",
    "from sklearn.metrics import balanced_accuracy_score\n",
    "from sklearn.metrics import confusion_matrix\n",
    "import keras\n",
    "from keras import layers\n",
    "import pandas as pd\n",
    "import pickle\n",
    "from IPython.display import clear_output\n",
    "from sklearn.preprocessing import StandardScaler\n",
    "from sklearn.model_selection import GridSearchCV\n",
    "from keras.wrappers.scikit_learn import KerasClassifier\n",
    "\n",
    "\n",
    "clear_output()"
   ]
  },
  {
   "cell_type": "markdown",
   "source": [
    "# Trenowanie modelu\n",
    "W tym dokumencie Jupyter Notebook znajduje się:\n",
    "- załadowanie danych oraz etykiet\n",
    "- podział na zbiór treningowy i testowy\n",
    "- skalowanie danych\n",
    "- wyszukanie odpowiednich parametrów\n",
    "- trening modelu\n",
    "- test modelu z wypisaniem wskaźników jakości modelu\n",
    "- zapisanie modelu głównego oraz modelu skalującego dane do pliku"
   ],
   "metadata": {
    "collapsed": false,
    "pycharm": {
     "name": "#%% md\n"
    }
   }
  },
  {
   "cell_type": "markdown",
   "source": [
    "### Załadowanie danych oraz etykiet z pliku\n",
    "Nasze dane posiadają następujące atrybuty:\n",
    "- cena\n",
    "- zniżka\n",
    "- miasto (hot-one)\n",
    "- kategoria (hot-one)\n",
    "- czas jaki upłynął od ostatniego zdarzenia w sesji dla tego użytkownika (0 dla pierwszego zdarzenia)\n",
    "- ile razy dany użytkownik wcześniej wyświetlił ten produkt\n",
    "- ile razy dany użytkownik wcześniej wyświetlił produkt z tej kategorii\n",
    "- ile razy dany użytkownik kupił już produkt kiedy zaoferowana była mu zniżka taka jak aktualna lub niższa\n",
    "- ile razy dany użytkownik kupił jakikolwiek produkt w danej kategorii"
   ],
   "metadata": {
    "collapsed": false,
    "pycharm": {
     "name": "#%% md\n"
    }
   }
  },
  {
   "cell_type": "code",
   "execution_count": 2,
   "outputs": [],
   "source": [
    "with open('../3-preprocess/records-merged.json') as file:\n",
    "    sessions = json.load(file)\n",
    "\n",
    "with open('../3-preprocess/buys2.json') as file:\n",
    "    buys = json.load(file)\n",
    "\n",
    "features = pd.DataFrame(sessions)\n",
    "labels = pd.DataFrame(buys)"
   ],
   "metadata": {
    "collapsed": false,
    "pycharm": {
     "name": "#%%\n"
    }
   }
  },
  {
   "cell_type": "markdown",
   "source": [
    "### Podział na zbiór treningowy i testowy\n",
    "- użycie wielkości zbioru testowego 0.25 całości zbioru danych\n",
    "- użycie deterministycznych wyników za pomocą *random_state* oraz *shuffle=False*"
   ],
   "metadata": {
    "collapsed": false,
    "pycharm": {
     "name": "#%% md\n"
    }
   }
  },
  {
   "cell_type": "code",
   "execution_count": 3,
   "outputs": [
    {
     "data": {
      "text/plain": "     price  product_views_count  category_view_count  bought_with_lower_count  \\\n0    64.80                    0                    0                        0   \n1  2048.50                    0                    0                        0   \n2  7639.00                    0                    1                        0   \n3  1998.14                    0                    2                        0   \n4  2399.00                    0                    3                        0   \n\n   bought_category_count  discount   time  one_hot_city0  one_hot_city1  \\\n0                      0         0    0.0              0              0   \n1                      0         0    0.0              0              0   \n2                      0         0  189.0              0              0   \n3                      0         0   72.0              0              0   \n4                      0         0  142.0              0              0   \n\n   one_hot_city2  ...  one_hot_category5  one_hot_category6  \\\n0              0  ...                  0                  0   \n1              0  ...                  0                  0   \n2              0  ...                  0                  0   \n3              0  ...                  0                  0   \n4              0  ...                  0                  0   \n\n   one_hot_category7  one_hot_category8  one_hot_category9  \\\n0                  1                  0                  0   \n1                  0                  0                  0   \n2                  0                  0                  0   \n3                  0                  0                  0   \n4                  0                  0                  0   \n\n   one_hot_category10  one_hot_category11  one_hot_category12  \\\n0                   0                   0                   0   \n1                   0                   0                   0   \n2                   0                   0                   0   \n3                   0                   0                   0   \n4                   0                   0                   0   \n\n   one_hot_category13  one_hot_category14  \n0                   0                   0  \n1                   0                   0  \n2                   0                   0  \n3                   0                   0  \n4                   0                   0  \n\n[5 rows x 30 columns]",
      "text/html": "<div>\n<style scoped>\n    .dataframe tbody tr th:only-of-type {\n        vertical-align: middle;\n    }\n\n    .dataframe tbody tr th {\n        vertical-align: top;\n    }\n\n    .dataframe thead th {\n        text-align: right;\n    }\n</style>\n<table border=\"1\" class=\"dataframe\">\n  <thead>\n    <tr style=\"text-align: right;\">\n      <th></th>\n      <th>price</th>\n      <th>product_views_count</th>\n      <th>category_view_count</th>\n      <th>bought_with_lower_count</th>\n      <th>bought_category_count</th>\n      <th>discount</th>\n      <th>time</th>\n      <th>one_hot_city0</th>\n      <th>one_hot_city1</th>\n      <th>one_hot_city2</th>\n      <th>...</th>\n      <th>one_hot_category5</th>\n      <th>one_hot_category6</th>\n      <th>one_hot_category7</th>\n      <th>one_hot_category8</th>\n      <th>one_hot_category9</th>\n      <th>one_hot_category10</th>\n      <th>one_hot_category11</th>\n      <th>one_hot_category12</th>\n      <th>one_hot_category13</th>\n      <th>one_hot_category14</th>\n    </tr>\n  </thead>\n  <tbody>\n    <tr>\n      <th>0</th>\n      <td>64.80</td>\n      <td>0</td>\n      <td>0</td>\n      <td>0</td>\n      <td>0</td>\n      <td>0</td>\n      <td>0.0</td>\n      <td>0</td>\n      <td>0</td>\n      <td>0</td>\n      <td>...</td>\n      <td>0</td>\n      <td>0</td>\n      <td>1</td>\n      <td>0</td>\n      <td>0</td>\n      <td>0</td>\n      <td>0</td>\n      <td>0</td>\n      <td>0</td>\n      <td>0</td>\n    </tr>\n    <tr>\n      <th>1</th>\n      <td>2048.50</td>\n      <td>0</td>\n      <td>0</td>\n      <td>0</td>\n      <td>0</td>\n      <td>0</td>\n      <td>0.0</td>\n      <td>0</td>\n      <td>0</td>\n      <td>0</td>\n      <td>...</td>\n      <td>0</td>\n      <td>0</td>\n      <td>0</td>\n      <td>0</td>\n      <td>0</td>\n      <td>0</td>\n      <td>0</td>\n      <td>0</td>\n      <td>0</td>\n      <td>0</td>\n    </tr>\n    <tr>\n      <th>2</th>\n      <td>7639.00</td>\n      <td>0</td>\n      <td>1</td>\n      <td>0</td>\n      <td>0</td>\n      <td>0</td>\n      <td>189.0</td>\n      <td>0</td>\n      <td>0</td>\n      <td>0</td>\n      <td>...</td>\n      <td>0</td>\n      <td>0</td>\n      <td>0</td>\n      <td>0</td>\n      <td>0</td>\n      <td>0</td>\n      <td>0</td>\n      <td>0</td>\n      <td>0</td>\n      <td>0</td>\n    </tr>\n    <tr>\n      <th>3</th>\n      <td>1998.14</td>\n      <td>0</td>\n      <td>2</td>\n      <td>0</td>\n      <td>0</td>\n      <td>0</td>\n      <td>72.0</td>\n      <td>0</td>\n      <td>0</td>\n      <td>0</td>\n      <td>...</td>\n      <td>0</td>\n      <td>0</td>\n      <td>0</td>\n      <td>0</td>\n      <td>0</td>\n      <td>0</td>\n      <td>0</td>\n      <td>0</td>\n      <td>0</td>\n      <td>0</td>\n    </tr>\n    <tr>\n      <th>4</th>\n      <td>2399.00</td>\n      <td>0</td>\n      <td>3</td>\n      <td>0</td>\n      <td>0</td>\n      <td>0</td>\n      <td>142.0</td>\n      <td>0</td>\n      <td>0</td>\n      <td>0</td>\n      <td>...</td>\n      <td>0</td>\n      <td>0</td>\n      <td>0</td>\n      <td>0</td>\n      <td>0</td>\n      <td>0</td>\n      <td>0</td>\n      <td>0</td>\n      <td>0</td>\n      <td>0</td>\n    </tr>\n  </tbody>\n</table>\n<p>5 rows × 30 columns</p>\n</div>"
     },
     "execution_count": 3,
     "metadata": {},
     "output_type": "execute_result"
    }
   ],
   "source": [
    "RANDOM_STATE = 55\n",
    "TEST_SIZE = 0.25\n",
    "\n",
    "X_train, X_test, y_train, y_test = train_test_split(features, labels,\n",
    "                                                    test_size=TEST_SIZE,\n",
    "                                                    shuffle=False,\n",
    "                                                    random_state=RANDOM_STATE)\n",
    "\n",
    "attrs_count = X_train.shape[1]\n",
    "X_train.head()"
   ],
   "metadata": {
    "collapsed": false,
    "pycharm": {
     "name": "#%%\n"
    }
   }
  },
  {
   "cell_type": "markdown",
   "source": [
    "### Skalowanie danych\n",
    "- \"karmienie\" modelu skalera danymi treningowymi\n",
    "- transformacja danych testowych i produkcyjnych za pomocą nauczonego modelu skalera"
   ],
   "metadata": {
    "collapsed": false,
    "pycharm": {
     "name": "#%% md\n"
    }
   }
  },
  {
   "cell_type": "code",
   "execution_count": 4,
   "outputs": [
    {
     "data": {
      "text/plain": "         0         1         2         3         4         5         6   \\\n0 -0.468988 -1.004891 -1.044236 -0.410782 -0.560587 -0.704942 -1.211978   \n1  0.909266 -1.004891 -1.044236 -0.410782 -0.560587 -0.704942 -1.211978   \n2  4.793485 -1.004891 -0.989052 -0.410782 -0.560587 -0.704942  0.583690   \n3  0.874276 -1.004891 -0.933867 -0.410782 -0.560587 -0.704942 -0.527914   \n4  1.152789 -1.004891 -0.878683 -0.410782 -0.560587 -0.704942  0.137148   \n\n         7         8         9   ...        20        21        22        23  \\\n0 -0.329268 -0.397157 -0.451412  ... -0.157655 -0.108852  6.018668 -0.163763   \n1 -0.329268 -0.397157 -0.451412  ... -0.157655 -0.108852 -0.166150 -0.163763   \n2 -0.329268 -0.397157 -0.451412  ... -0.157655 -0.108852 -0.166150 -0.163763   \n3 -0.329268 -0.397157 -0.451412  ... -0.157655 -0.108852 -0.166150 -0.163763   \n4 -0.329268 -0.397157 -0.451412  ... -0.157655 -0.108852 -0.166150 -0.163763   \n\n         24        25        26        27        28        29  \n0 -0.391228 -0.113742 -0.272901 -0.235988 -0.170299 -0.108852  \n1 -0.391228 -0.113742 -0.272901 -0.235988 -0.170299 -0.108852  \n2 -0.391228 -0.113742 -0.272901 -0.235988 -0.170299 -0.108852  \n3 -0.391228 -0.113742 -0.272901 -0.235988 -0.170299 -0.108852  \n4 -0.391228 -0.113742 -0.272901 -0.235988 -0.170299 -0.108852  \n\n[5 rows x 30 columns]",
      "text/html": "<div>\n<style scoped>\n    .dataframe tbody tr th:only-of-type {\n        vertical-align: middle;\n    }\n\n    .dataframe tbody tr th {\n        vertical-align: top;\n    }\n\n    .dataframe thead th {\n        text-align: right;\n    }\n</style>\n<table border=\"1\" class=\"dataframe\">\n  <thead>\n    <tr style=\"text-align: right;\">\n      <th></th>\n      <th>0</th>\n      <th>1</th>\n      <th>2</th>\n      <th>3</th>\n      <th>4</th>\n      <th>5</th>\n      <th>6</th>\n      <th>7</th>\n      <th>8</th>\n      <th>9</th>\n      <th>...</th>\n      <th>20</th>\n      <th>21</th>\n      <th>22</th>\n      <th>23</th>\n      <th>24</th>\n      <th>25</th>\n      <th>26</th>\n      <th>27</th>\n      <th>28</th>\n      <th>29</th>\n    </tr>\n  </thead>\n  <tbody>\n    <tr>\n      <th>0</th>\n      <td>-0.468988</td>\n      <td>-1.004891</td>\n      <td>-1.044236</td>\n      <td>-0.410782</td>\n      <td>-0.560587</td>\n      <td>-0.704942</td>\n      <td>-1.211978</td>\n      <td>-0.329268</td>\n      <td>-0.397157</td>\n      <td>-0.451412</td>\n      <td>...</td>\n      <td>-0.157655</td>\n      <td>-0.108852</td>\n      <td>6.018668</td>\n      <td>-0.163763</td>\n      <td>-0.391228</td>\n      <td>-0.113742</td>\n      <td>-0.272901</td>\n      <td>-0.235988</td>\n      <td>-0.170299</td>\n      <td>-0.108852</td>\n    </tr>\n    <tr>\n      <th>1</th>\n      <td>0.909266</td>\n      <td>-1.004891</td>\n      <td>-1.044236</td>\n      <td>-0.410782</td>\n      <td>-0.560587</td>\n      <td>-0.704942</td>\n      <td>-1.211978</td>\n      <td>-0.329268</td>\n      <td>-0.397157</td>\n      <td>-0.451412</td>\n      <td>...</td>\n      <td>-0.157655</td>\n      <td>-0.108852</td>\n      <td>-0.166150</td>\n      <td>-0.163763</td>\n      <td>-0.391228</td>\n      <td>-0.113742</td>\n      <td>-0.272901</td>\n      <td>-0.235988</td>\n      <td>-0.170299</td>\n      <td>-0.108852</td>\n    </tr>\n    <tr>\n      <th>2</th>\n      <td>4.793485</td>\n      <td>-1.004891</td>\n      <td>-0.989052</td>\n      <td>-0.410782</td>\n      <td>-0.560587</td>\n      <td>-0.704942</td>\n      <td>0.583690</td>\n      <td>-0.329268</td>\n      <td>-0.397157</td>\n      <td>-0.451412</td>\n      <td>...</td>\n      <td>-0.157655</td>\n      <td>-0.108852</td>\n      <td>-0.166150</td>\n      <td>-0.163763</td>\n      <td>-0.391228</td>\n      <td>-0.113742</td>\n      <td>-0.272901</td>\n      <td>-0.235988</td>\n      <td>-0.170299</td>\n      <td>-0.108852</td>\n    </tr>\n    <tr>\n      <th>3</th>\n      <td>0.874276</td>\n      <td>-1.004891</td>\n      <td>-0.933867</td>\n      <td>-0.410782</td>\n      <td>-0.560587</td>\n      <td>-0.704942</td>\n      <td>-0.527914</td>\n      <td>-0.329268</td>\n      <td>-0.397157</td>\n      <td>-0.451412</td>\n      <td>...</td>\n      <td>-0.157655</td>\n      <td>-0.108852</td>\n      <td>-0.166150</td>\n      <td>-0.163763</td>\n      <td>-0.391228</td>\n      <td>-0.113742</td>\n      <td>-0.272901</td>\n      <td>-0.235988</td>\n      <td>-0.170299</td>\n      <td>-0.108852</td>\n    </tr>\n    <tr>\n      <th>4</th>\n      <td>1.152789</td>\n      <td>-1.004891</td>\n      <td>-0.878683</td>\n      <td>-0.410782</td>\n      <td>-0.560587</td>\n      <td>-0.704942</td>\n      <td>0.137148</td>\n      <td>-0.329268</td>\n      <td>-0.397157</td>\n      <td>-0.451412</td>\n      <td>...</td>\n      <td>-0.157655</td>\n      <td>-0.108852</td>\n      <td>-0.166150</td>\n      <td>-0.163763</td>\n      <td>-0.391228</td>\n      <td>-0.113742</td>\n      <td>-0.272901</td>\n      <td>-0.235988</td>\n      <td>-0.170299</td>\n      <td>-0.108852</td>\n    </tr>\n  </tbody>\n</table>\n<p>5 rows × 30 columns</p>\n</div>"
     },
     "execution_count": 4,
     "metadata": {},
     "output_type": "execute_result"
    }
   ],
   "source": [
    "sc = StandardScaler()\n",
    "X_train = sc.fit_transform(X_train)\n",
    "X_test = sc.transform(X_test)\n",
    "\n",
    "pd.DataFrame(X_train).head()"
   ],
   "metadata": {
    "collapsed": false,
    "pycharm": {
     "name": "#%%\n"
    }
   }
  },
  {
   "cell_type": "markdown",
   "source": [
    "### Utworzenie modelu Uczenia Maszynowego\n",
    "- użycie Keras do tworzenia modelu\n",
    "- model zawiera 3 warstwy gęste \"full connected\" o ilości neuronów odpowiednio (100 lub 120), (10, 20 lub 30) oraz 1\n",
    "- model jako argument przyjmuje rekord złożony z 30 atrybutów opisujących 1 wydarzenie (event) w systemie e-commerce\n",
    "- model zwraca prawdopodobieństwo kupienia produktu przez użytkownika w formacie liczby [0,1]"
   ],
   "metadata": {
    "collapsed": false,
    "pycharm": {
     "name": "#%% md\n"
    }
   }
  },
  {
   "cell_type": "code",
   "execution_count": 5,
   "outputs": [],
   "source": [
    "def create_model(units1, units2):\n",
    "    model = keras.Sequential()\n",
    "    model.add(layers.Dense(units1, activation='relu', input_shape=(attrs_count,)))\n",
    "    model.add(layers.Dense(units2, activation='relu'))\n",
    "    model.add(layers.Dense(1, activation='sigmoid'))\n",
    "    model.compile(loss='binary_crossentropy',\n",
    "                  optimizer='adam',\n",
    "                  metrics=['acc'])\n",
    "    return model"
   ],
   "metadata": {
    "collapsed": false,
    "pycharm": {
     "name": "#%%\n"
    }
   }
  },
  {
   "cell_type": "markdown",
   "source": [
    "### Automatyczne strojenie hiperparametrów\n",
    "- użycie GridSearch do znalezienia wielkości warstw modelu\n",
    "- użycie wrapera scikit-learn na modele napisane w Keras, aby przekazać je modelowi GridSearch"
   ],
   "metadata": {
    "collapsed": false,
    "pycharm": {
     "name": "#%% md\n"
    }
   }
  },
  {
   "cell_type": "code",
   "execution_count": null,
   "outputs": [],
   "source": [
    "keras_clf = KerasClassifier(build_fn=create_model,batch_size=25)\n",
    "\n",
    "tuned_parameters = [{\n",
    "    'units1': [100,120],\n",
    "    'units2': [10,20,30],\n",
    "    }]\n",
    "\n",
    "clf = GridSearchCV(keras_clf, tuned_parameters, cv=5)"
   ],
   "metadata": {
    "collapsed": false,
    "pycharm": {
     "name": "#%%\n"
    }
   }
  },
  {
   "cell_type": "markdown",
   "source": [
    "### Uczenie modelu\n",
    "- model uczy się wiele razy, aby sprawdzić wszystkie parametry i wybiera najlepiej nauczony model\n",
    "- wynikowe najlepsze parametry sa podane poniżej"
   ],
   "metadata": {
    "collapsed": false
   }
  },
  {
   "cell_type": "code",
   "execution_count": null,
   "outputs": [],
   "source": [
    "clf.fit(X_train, y_train)\n",
    "clear_output()\n",
    "clf.best_params_"
   ],
   "metadata": {
    "collapsed": false,
    "pycharm": {
     "name": "#%%\n"
    }
   }
  },
  {
   "cell_type": "markdown",
   "source": [
    "### Test modelu"
   ],
   "metadata": {
    "collapsed": false
   }
  },
  {
   "cell_type": "code",
   "execution_count": null,
   "outputs": [],
   "source": [
    "y_pred = clf.predict(X_test)\n",
    "y_pred = [x[0] for x in y_pred]\n",
    "\n",
    "pd.DataFrame(y_pred).head()"
   ],
   "metadata": {
    "collapsed": false,
    "pycharm": {
     "name": "#%%\n"
    }
   }
  },
  {
   "cell_type": "markdown",
   "source": [
    "### Wypisanie wskaźników jakości modelu\n",
    "- dane modelu są niezrównoważone - większość etykiet jest równa zeru -> stosowany jest więc \"balanced accuracy score\"\n",
    "- wyniki tablicy pomyłek porównujemy z wynikami modelu bazowego, który zawsze zwraca najczęstszą klasę, czyli 0 (nie kupi)"
   ],
   "metadata": {
    "collapsed": false
   }
  },
  {
   "cell_type": "code",
   "execution_count": null,
   "outputs": [],
   "source": [
    "print(\"Balanced accuracy score: \")\n",
    "print(balanced_accuracy_score(y_test.values.tolist(), y_pred))"
   ],
   "metadata": {
    "collapsed": false,
    "pycharm": {
     "name": "#%%\n"
    }
   }
  },
  {
   "cell_type": "code",
   "execution_count": null,
   "outputs": [],
   "source": [
    "print(\"Confusion matrix: \")\n",
    "print(confusion_matrix(y_test, y_pred))\n",
    "print(\"Base confusion matrix: \")\n",
    "print(confusion_matrix(y_test, [0 for _ in range(len(y_test))]))"
   ],
   "metadata": {
    "collapsed": false,
    "pycharm": {
     "name": "#%%\n"
    }
   }
  },
  {
   "cell_type": "markdown",
   "source": [
    "### Zapisanie modeli do plików"
   ],
   "metadata": {
    "collapsed": false
   }
  },
  {
   "cell_type": "code",
   "execution_count": null,
   "outputs": [],
   "source": [
    "par = clf.best_params_\n",
    "model = create_model(par['units1'], par['units2'])\n",
    "model.fit(X_train, y_train)\n",
    "\n",
    "with open ('../5-server/core/model.pckl', 'wb') as file:\n",
    "    pickle.dump(model,file)\n",
    "\n",
    "with open ('../5-server/core/scaler.pckl', 'wb') as file:\n",
    "    pickle.dump(sc,file)"
   ],
   "metadata": {
    "collapsed": false,
    "pycharm": {
     "name": "#%%\n"
    }
   }
  },
  {
   "cell_type": "code",
   "execution_count": 6,
   "outputs": [],
   "source": [
    "par = clf.best_params_\n",
    "model = create_model(par['units1'], par['units2'])\n",
    "model.fit(X_train, y_train)\n",
    "\n",
    "with open ('../5-server/core/model.pckl', 'wb') as file:\n",
    "    pickle.dump(model,file)\n",
    "\n",
    "with open ('../5-server/core/scaler.pckl', 'wb') as file:\n",
    "    pickle.dump(sc,file)"
   ],
   "metadata": {
    "collapsed": false,
    "pycharm": {
     "name": "#%%\n"
    }
   }
  },
  {
   "cell_type": "markdown",
   "source": [
    "### Uczenie modelu\n",
    "- model uczy się wiele razy, aby sprawdzić wszystkie parametry i wybiera najlepiej nauczony model\n",
    "- wynikowe najlepsze parametry sa podane poniżej"
   ],
   "metadata": {
    "collapsed": false,
    "pycharm": {
     "name": "#%% md\n"
    }
   }
  },
  {
   "cell_type": "code",
   "execution_count": 7,
   "outputs": [
    {
     "data": {
      "text/plain": "{'units1': 120, 'units2': 30}"
     },
     "execution_count": 7,
     "metadata": {},
     "output_type": "execute_result"
    }
   ],
   "source": [
    "clf.fit(X_train, y_train)\n",
    "clear_output()\n",
    "clf.best_params_"
   ],
   "metadata": {
    "collapsed": false,
    "pycharm": {
     "name": "#%%\n"
    }
   }
  },
  {
   "cell_type": "markdown",
   "source": [
    "### Test modelu"
   ],
   "metadata": {
    "collapsed": false,
    "pycharm": {
     "name": "#%% md\n"
    }
   }
  },
  {
   "cell_type": "code",
   "execution_count": 8,
   "outputs": [
    {
     "data": {
      "text/plain": "   0\n0  0\n1  0\n2  0\n3  0\n4  0",
      "text/html": "<div>\n<style scoped>\n    .dataframe tbody tr th:only-of-type {\n        vertical-align: middle;\n    }\n\n    .dataframe tbody tr th {\n        vertical-align: top;\n    }\n\n    .dataframe thead th {\n        text-align: right;\n    }\n</style>\n<table border=\"1\" class=\"dataframe\">\n  <thead>\n    <tr style=\"text-align: right;\">\n      <th></th>\n      <th>0</th>\n    </tr>\n  </thead>\n  <tbody>\n    <tr>\n      <th>0</th>\n      <td>0</td>\n    </tr>\n    <tr>\n      <th>1</th>\n      <td>0</td>\n    </tr>\n    <tr>\n      <th>2</th>\n      <td>0</td>\n    </tr>\n    <tr>\n      <th>3</th>\n      <td>0</td>\n    </tr>\n    <tr>\n      <th>4</th>\n      <td>0</td>\n    </tr>\n  </tbody>\n</table>\n</div>"
     },
     "execution_count": 8,
     "metadata": {},
     "output_type": "execute_result"
    }
   ],
   "source": [
    "y_pred = clf.predict(X_test)\n",
    "y_pred = [x[0] for x in y_pred]\n",
    "\n",
    "pd.DataFrame(y_pred).head()"
   ],
   "metadata": {
    "collapsed": false,
    "pycharm": {
     "name": "#%%\n"
    }
   }
  },
  {
   "cell_type": "markdown",
   "source": [
    "### Wypisanie wskaźników jakości modelu\n",
    "- dane modelu są niezrównoważone - większość etykiet jest równa zeru -> stosowany jest więc \"balanced accuracy score\"\n",
    "- wyniki tablicy pomyłek porównujemy z wynikami modelu bazowego, który zawsze zwraca najczęstszą klasę, czyli 0 (nie kupi)"
   ],
   "metadata": {
    "collapsed": false,
    "pycharm": {
     "name": "#%% md\n"
    }
   }
  },
  {
   "cell_type": "code",
   "execution_count": 9,
   "outputs": [
    {
     "name": "stdout",
     "output_type": "stream",
     "text": [
      "Balanced accuracy score: \n",
      "0.6223335879215317\n"
     ]
    }
   ],
   "source": [
    "print(\"Balanced accuracy score: \")\n",
    "print(balanced_accuracy_score(y_test.values.tolist(), y_pred))"
   ],
   "metadata": {
    "collapsed": false,
    "pycharm": {
     "name": "#%%\n"
    }
   }
  },
  {
   "cell_type": "code",
   "execution_count": 13,
   "outputs": [
    {
     "name": "stdout",
     "output_type": "stream",
     "text": [
      "Confusion matrix: \n",
      "[[11103    79]\n",
      " [  324   109]]\n",
      "Base confusion matrix: \n",
      "[[11182     0]\n",
      " [  433     0]]\n"
     ]
    }
   ],
   "source": [
    "print(\"Confusion matrix: \")\n",
    "print(confusion_matrix(y_test, y_pred))\n",
    "print(\"Base confusion matrix: \")\n",
    "print(confusion_matrix(y_test, [0 for _ in range(len(y_test))]))"
   ],
   "metadata": {
    "collapsed": false,
    "pycharm": {
     "name": "#%%\n"
    }
   }
  },
  {
   "cell_type": "markdown",
   "source": [
    "### Zapisanie modeli do plików"
   ],
   "metadata": {
    "collapsed": false,
    "pycharm": {
     "name": "#%% md\n",
     "is_executing": true
    }
   }
  },
  {
   "cell_type": "code",
   "execution_count": 11,
   "outputs": [
    {
     "name": "stdout",
     "output_type": "stream",
     "text": [
      "Epoch 1/1\n",
      "34842/34842 [==============================] - 3s 96us/step - loss: 0.1204 - acc: 0.9625\b\b\b\b\b\b\b\b\b\b\b\b\b\b\b\b\b\b\b\b\b\b\b\b\b\b\b\b\b\b\b\b\b\b\b\b\b\b\b\b\b\b\b\b\b\b\b\b\b\b\b\b\b\b\b\b\b\b\b\b\b\b\b\b\b\b\b\b\b\b\b\b\b\b\b\b\b\b\b\b\b\b\b\b\b\b\b\b\b\b\b\b\b\b\b\b\b\b\b\b\b\b\b\b\b\b\b\b\b\b\b\b\b\b\b\b\b\b\b\b\b\b\b\b\b\b\b\b\b\b\b\b\b\b\b\b\b\b\b\b\b\b\b\b\b\b\b\b\b\b\b\b\b\b\b\b\b\b\b\b\b\b\b\b\b\b\b\b\b\b\b\b\b\b\b\b\b\b\b\b\b\b\b\b\b\b\b\b\b\b\b\b\b\b\b\b\b\b\b\b\b\b\b\b\b\b\b\b\b\b\b\b\b\b\b\b\b\b\b\b\b\b\b\b\b\b\b\b\b\b\b\b\b\b\b\b\b\b\b\b\b\b\b\b\b\b\b\b\b\b\b\b\b\b\b\b\b\b\b\b\b\b\b\b\b\b\b\b\b\b\b\b\b\b\b\b\b\b\b\b\b\b\b\b\b\b\b\b\b\b\b\b\b\b\b\b\b\b\b\b\b\b\b\b\b\b\b\b\b\b\b\b\b\b\b\b\b\b\b\b\b\b\b\b\b\b\b\b\b\b\b\b\b\b\b\b\b\b\b\b\b\b\b\b\b\b\b\b\b\b\b\b\b\b\b\b\b\b\b\b\b\b\b\b\b\b\b\b\b\b\b\b\b\b\b\b\b\b\b\b\b\b\b\b\b\b\b\b\b\b\b\b\b\b\b\b\b\b\b\b\b\b\b\b\b\b\b\b\b\b\b\b\b\b\b\b\b\b\b\b\b\b\b\b\b\b\b\b\b\b\b\b\b\b\b\b\b\b\b\b\b\b\b\b\b\b\b\b\b\b\b\b\b\b\b\b\b\b\b\b\b\b\b\b\b\b\b\b\b\b\b\b\b\b\b\b\b\b\b\b\b\b\b\b\b\b\b\b\b\b\b\b\b\b\b\b\b\b\b\b\b\b\b\b\b\b\b\b\b\b\b\b\b\b\b\b\b\b\b\b\b\b\b\b\b\b\b\b\b\b\b\b\b\b\b\b\b\b\b\b\b\b\b\b\b\b\b\b\b\b\b\b\b\b\b\b\b\b\b\b\b\b\b\b\b\b\b\b\b\b\b\b\b\b\b\b\b\b\b\b\b\b\b\b\b\b\b\b\b\b\b\b\b\b\b\b\b\b\b\b\b\b\b\b\b\b\b\b\b\b\b\b\b\b\b\b\b\b\b\b\b\b\b\b\b\b\b\b\b\b\b\b\b\b\b\b\b\b\b\b\b\b\b\b\b\b\b\b\b\b\b\b\b\b\b\b\b\b\b\b\b\b\b\b\b\b\b\b\b\b\b\b\b\b\b\b\b\b\b\b\b\b\b\b\b\b\b\b\b\b\b\b\b\b\b\b\b\b\b\b\b\b\b\b\b\b\b\b\b\b\b\b\b\b\b\b\b\b\b\b\b\b\b\b\b\b\b\b\b\b\b\b\b\b\b\b\b\b\b\b\b\b\b\b\b\b\b\b\b\b\b\b\b\b\b\b\b\b\b\b\b\b\b\b\b\b\b\b\b\b\b\b\b\b\b\b\b\b\b\b\b\b\b\b\b\b\b\b\b\b\b\b\b\b\b\b\b\b\b\b\b\b\b\b\b\b\b\b\b\b\b\b\b\b\b\b\b\b\b\b\b\b\b\b\b\b\b\b\b\b\b\b\b\b\b\b\b\b\b\b\b\b\b\b\b\b\b\b\b\b\b\b\b\b\b\b\b\b\b\b\b\b\b\b\b\b\b\b\b\b\b\b\b\b\b\b\b\b\b\b\b\b\b\b\b\b\b\b\b\b\b\b\b\b\b\b\b\b\b\b\b\b\b\b\b\b\b\b\b\b\b\b\b\b\b\b\b\b\b\b\b\b\b\b\b\b\b\b\b\b\b\b\b\b\b\b\b\b\b\b\b\b\b\b\b\b\b\b\b\b\b\b\b\b\b\b\b\b\b\b\b\b\b\b\b\b\b\b\b\b\b\b\b\b\b\b\b\b\b\b\b\b\b\b\b\b\b\b\b\b\b\b\b\b\b\b\b\b\b\b\b\b\b\b\b\b\b\b\b\b\b\b\b\b\b\b\b\b\b\b\b\b\b\b\b\b\b\b\b\b\b\b\b\b\b\b\b\b\b\b\b\b\b\b\b\b\b\b\b\b\b\b\b\b\b\b\b\b\b\b\b\b\b\b\b\b\b\b\b\b\b\b\b\b\b\b\b\b\b\b\b\b\b\b\b\b\b\b\b\b\b\b\b\b\b\b\b\b\b\b\b\b\b\b\b\b\b\b\b\b\b\b\b\b\b\b\b\b\b\b\b\b\b\b\b\b\b\b\b\b\b\b\b\b\b\b\b\b\b\b\b\b\b\b\b\b\b\b\b\b\b\b\b\b\b\b\b\b\b\b\b\b\b\b\b\b\b\b\b\b\b\b\b\b\b\b\b\b\b\b\b\b\b\b\b\b\b\b\b\b\b\b\b\b\b\b\b\b\b\b\b\b\b\b\b\b\b\b\b\b\b\b\b\b\b\b\b\b\b\b\b\b\b\b\b\b\b\b\b\b\b\b\b\b\b\b\b\b\b\b\b\b\b\b\b\b\b\b\b\b\b\b\b\b\b\b\b\b\b\b\b\b\b\b\b\b\b\b\b\b\b\b\b\b\b\b\b\b\b\b\b\b\b\b\b\b\b\b\b\b\b\b\b\b\b\b\b\b\b\b\b\b\b\b\b\b\b\b\b\b\b\b\b\b\b\b\b\b\b\b\b\b\b\b\b\b\b\b\b\b\b\b\b\b\b\b\b\b\b\b\b\b\b\b\b\b\b\b\b\b\b\b\b\b\b\b\b\b\b\b\b\b\b\b\b\b\b\b\b\b\b\b\b\b\b\b\b\b\b\b\b\b\b\b\b\b\b\b\b\b\b\b\b\b\b\b\b\b\b\b\b\b\b\b\b\b\b\b\b\b\b\b\b\b\b\b\b\b\b\b\b\b\b\b\b\b\b\b\b\b\b\b\b\b\b\b\b\b\b\b\b\b\b\b\b\b\b\b\b\b\b\b\b\b\b\b\b\b\b\b\b\b\b\b\b\b\b\b\b\b\b\b\b\b\b\b\b\b\b\b\b\b\b\b\b\b\b\b\b\b\b\b\b\b\b\b\b\b\b\b\b\b\b\b\b\b\b\b\b\b\b\b\b\b\b\b\b\b\b\b\b\b\b\b\b\b\b\b\b\b\b\b\b\b\b\b\b\b\b\b\b\b\b\b\b\b\b\b\b\b\b\b\b\b\b\b\b\b\b\b\b\b\b\b\b\b\b\b\b\b\b\b\b\b\b\b\b\b\b\b\b\b\b\b\b\b\b\b\b\b\b\b\b\b\b\b\b\b\b\b\b\b\b\b\b\b\b\b\b\b\b\b\b\b\b\b\b\b\b\b\b\b\b\b\b\b\b\b\b\b\b\b\b\b\b\b\b\b\b\b\b\b\b\b\b\b\b\b\b\b\b\b\b\b\b\b\b\b\b\b\b\b\b\b\b\b\b\b\b\b\b\b\b\b\b\b\b\b\b\b\b\b\b\b\b\b\b\b\b\b\b\b\b\b\b\b\b\b\b\b\b\b\b\b\b\b\b\b\b\b\b\b\b\b\b\b\b\b\b\b\b\b\b\b\b\b\b\b\b\b\b\b\b\b\b\b\b\b\b\b\b\b\b\b\b\b\b\b\b\b\b\b\b\b\b\b\b\b\b\b\b\b\b\b\b\b\b\b\b\b\b\b\b\b\b\b\b\b\b\b\b\b\b\b\b\b\b\b\b\b\b\b\b\b\b\b\b\b\b\b\b\b\b\b\b\b\b\b\b\b\b\b\b\b\b\b\b\b\b\b\b\b\b\b\b\b\b\b\b\b\b\b\b\b\b\b\b\b\b\b\b\b\b\b\b\b\b\b\b\b\b\b\b\b\b\b\b\b\b\b\b\b\b\b\b\b\b\b\b\b\b\b\b\b\b\b\b\b\b\b\b\b\b\b\b\b\b\b\b\b\b\b\b\b\b\b\b\b\b\b\b\b\b\b\b\b\b\b\b\b\b\b\b\b\b\b\b\b\b\b\b\b\b\b\b\b\b\b\b\b\b\b\b\b\b\b\b\b\b\b\b\b\b\b\b\b\b\b\b\b\b\b\b\b\b\b\b\b\b\b\b\b\b\b\b\b\b\b\b\b\b\b\b\b\b\b\b\b\b\b\b\b\b\b\b\b\b\b\b\b\b\b\b\b\b\b\b\b\b\b\b\b\b\b\b\b\b\b\b\b\b\b\b\b\b\b\b\b\b\b\b\b\b\b\b\b\b\b\b\b\b\b\b\b\b\b\b\b\b\b\b\b\b\b\b\b\b\b\b\b\b\b\b\b\b\b\b\b\b\b\b\b\b\b\b\b\b\b\b\b\b\b\b\b\b\b\b\b\b\b\b\b\b\b\b\b\b\b\b\b\b\b\b\b\b\b\b\b\b\b\b\b\b\b\b\b\b\b\b\b\b\b\b\b\b\b\b\b\b\b\b\b\b\b\b\b\b\b\b\b\b\b\b\b\b\b\b\b\b\b\b\b\b\b\b\b\b\b\b\b\b\b\b\b\b\b\b\b\b\b\b\b\b\b\b\b\b\b\b\b\b\b\b\b\b\b\b\b\b\b\b\b\b\b\b\b\b\b\b\b\b\b\b\b\b\b\b\b\b\b\b\b\b\b\b\b\b\b\b\b\b\b\b\b\b\b\b\b\b\b\b\b\b\b\b\b\b\b\b\b\b\b\b\b\b\b\b\b\b\b\b\b\b\b\b\b\b\b\b\b\b\b\b\b\b\b\b\b\b\b\b\b\b\b\b\b\b\b\b\b\b\b\b\b\b\b\b\b\b\b\b\b\b\b\b\b\b\b\b\b\b\b\b\b\b\b\b\b\b\b\b\b\b\b\b\b\b\b\b\b\b\b\b\b\b\b\b\b\b\b\b\b\b\b\b\b\b\b\b\b\b\b\b\b\b\b\b\b\b\b\b\b\b\b\b\b\b\b\b\b\b\b\b\b\b\b\b\b\b\b\b\b\b\b\b\b\b\b\b\b\b\b\b\b\b\b\b\b\b\b\b\b\b\b\b\b\b\b\b\b\b\b\b\b\b\b\b\b\b\b\b\b\b\b\b\b\b\b\b\b\b\b\b\b\b\b\b\b\b\b\b\b\b\b\b\b\b\b\b\b\b\b\b\b\b\b\b\b\b\b\b\b\b\b\b\b\b\b\b\b\b\b\b\b\b\b\b\b\b\b\b\b\b\b\b\b\b\b\b\b\b\b\b\b\b\b\b\b\b\b\b\b\b\b\b\b\b\b\b\b\b\b\b\b\b\b\b\b\b\b\b\b\b\b\b\b\b\b\b\b\b\b\b\b\b\b\b\b\b\b\b\b\b\b\b\b\b\b\b\b\b\b\b\b\b\b\b\b\b\b\b\b\b\b\b\b\b\b\b\b\b\b\b\b\b\b\b\b\b\b\b\b\b\b\b\b\b\b\b\b\b\b\b\b\b\b\b\b\b\b\b\b\b\b\b\b\b\b\b\b\b\b\b\b\b\b\b\b\b\b\b\b\b\b\b\b\b\b\b\b\b\b\b\b\b\b\b\b\b\b\b\b\b\b\b\b\b\b\b\b\b\b\b\b\b\b\b\b\b\b\b\b\b\b\b\b\b\b\b\b\b\b\b\b\b\b\b\b\b\b\b\b\b\b\b\b\b\b\b\b\b\b\b\b\b\b\b\b\b\b\b\b\b\b\b\b\b\b\b\b\b\b\b\b\b\b\b\b\b\b\b\b\b\b\b\b\b\b\b\b\b\b\b\b\b\b\b\b\b\b\b\b\b\b\b\b\b\b\b\b\b\b\b\b\b\b\b\b\b\b\b\b\b\b\b\b\b\b\b\b\b\b\b\b\b\b\b\b\b\b\b\b\b\b\b\b\b\b\b\b\b\b\b\b\b\b\b\b\b\b\b\b\b\b\b\b\b\b\b\b\b\b\b\b\b\b\b\b\b\b\b\b\b\b\b\b\b\b\b\b\b\b\b\b\b\b\b\b\b\b\b\b\b\b\b\b\b\b\b\b\b\b\b\b\b\b\b\b\b\b\b\b\b\b\b\b\b\b\b\b\b\b\b\b\b\b\b\b\b\b\b\b\b\b\b\b\b\b\b\b\b\b\b\b\b\b\b\b\b\b\b\b\b\b\b\b\b\b\b\b\b\b\b\b\b\b\b\b\b\b\b\b\b\b\b\b\b\b\b\b\b\b\b\b\b\b\b\b\b\b\b\b\b\b\b\b\b\b\b\b\b\b\b\b\b\b\b\b\b\b\b\b\b\b\b\b\b\b\b\b\b\b\b\b\b\b\b\b\b\b\b\b\b\b\b\b\b\b\b\b\b\b\b\b\b\b\b\b\b\b\b\b\b\b\b\b\b\b\b\b\b\b\b\b\n"
     ]
    }
   ],
   "source": [
    "par = clf.best_params_\n",
    "model = create_model(par['units1'], par['units2'])\n",
    "model.fit(X_train, y_train)\n",
    "\n",
    "with open ('../5-server/core/model.pckl', 'wb') as file:\n",
    "    pickle.dump(model,file)\n",
    "\n",
    "with open ('../5-server/core/scaler.pckl', 'wb') as file:\n",
    "    pickle.dump(sc,file)"
   ],
   "metadata": {
    "collapsed": false,
    "pycharm": {
     "name": "#%%\n"
    }
   }
  }
 ],
 "metadata": {
  "kernelspec": {
   "name": "pycharm-abe1d7a7",
   "language": "python",
   "display_name": "PyCharm (eshop-prediction)"
  },
  "language_info": {
   "codemirror_mode": {
    "name": "ipython",
    "version": 2
   },
   "file_extension": ".py",
   "mimetype": "text/x-python",
   "name": "python",
   "nbconvert_exporter": "python",
   "pygments_lexer": "ipython2",
   "version": "2.7.6"
  }
 },
 "nbformat": 4,
 "nbformat_minor": 0
}