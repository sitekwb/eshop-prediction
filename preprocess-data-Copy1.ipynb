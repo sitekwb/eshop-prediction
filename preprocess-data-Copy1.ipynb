{
 "cells": [
  {
   "cell_type": "markdown",
   "metadata": {
    "pycharm": {
     "name": "#%% md\n"
    }
   },
   "source": [
    "Wczytajmy oczyszczone dane"
   ]
  },
  {
   "cell_type": "code",
   "execution_count": 3,
   "metadata": {
    "pycharm": {
     "name": "#%%\n"
    }
   },
   "outputs": [],
   "source": [
    "import json\n",
    "from datetime import datetime"
   ]
  },
  {
   "cell_type": "code",
   "execution_count": 4,
   "metadata": {
    "pycharm": {
     "name": "#%%\n"
    }
   },
   "outputs": [],
   "source": [
    "folder = 'data'\n",
    "\n",
    "with open(folder + '/events.json') as file:\n",
    "    events_list = json.load(file)\n",
    "\n",
    "with open(folder + '/products.json') as file:\n",
    "    products_list = json.load(file)\n",
    "\n",
    "with open(folder + '/users.json') as file:\n",
    "    users_list = json.load(file)\n"
   ]
  },
  {
   "cell_type": "markdown",
   "metadata": {},
   "source": [
    "Jedną jednostką uczącą rekurencyjnej sieci neuronowej będzie lista wydarzeń w sesji.\n",
    "\n",
    "Na początku wyodrębniamy poszczególne sesje.\n",
    "\n",
    "Następnie przygotujmy atrybuty do modelu.\n",
    "- events_list:\n",
    "    - timestamp -> czas od poprzedniego wydarzenia\n",
    "    - event_type -> bool isBuying: ==\"BUY_PRODUCT\"\n",
    "    - offered_discount\n",
    "    - User\n",
    "    - Product\n",
    "- users_list:\n",
    "    - city -> hot 1\n",
    "- products_list:\n",
    "    - category -> hot 1\n",
    "    - price"
   ]
  },
  {
   "cell_type": "code",
   "execution_count": 17,
   "metadata": {
    "pycharm": {
     "name": "#%%\n"
    }
   },
   "outputs": [],
   "source": [
    "#definition of classes\n",
    "\n",
    "class User:\n",
    "    def __init__(self, city):\n",
    "        self.city = city\n",
    "\n",
    "    def get_city(self):\n",
    "        return self.city\n",
    "\n",
    "\n",
    "users = dict()\n",
    "\n",
    "for user in users_list:\n",
    "    users[user['user_id']] = User(user['city'])\n",
    "\n",
    "\n",
    "class Product:\n",
    "    def __init__(self, product_id, price, category):\n",
    "        self.product_id = product_id\n",
    "        self.price = price\n",
    "        self.category = category\n",
    "\n",
    "\n",
    "# def to_categorical(self, category_list):\n",
    "#         # one hot encode\n",
    "#         encoded = to_categorical(category_list)\n",
    "#         print(encoded)\n",
    "#         # invert encoding\n",
    "#         inverted = argmax(encoded[0])\n",
    "#         print(inverted)\n",
    "\n",
    "products = dict()\n",
    "\n",
    "for product in products_list:\n",
    "    products[product['product_id']] = Product(product['product_id'], product['price'], product['category_path'])\n",
    "\n",
    "\n",
    "class Event:\n",
    "    def __init__(self, time, user_city, product_price, product_category, event_type, discount):\n",
    "        self.time = time.total_seconds()\n",
    "        self.user_city = user_city\n",
    "        self.product_price = product_price\n",
    "        self.product_category = product_category\n",
    "        self.bought = event_type == \"BUY_PRODUCT\"\n",
    "        self.discount = discount\n",
    "\n",
    "# \n",
    "# class Session:\n",
    "#     def __init__(self, events_list):\n",
    "#         self.events_list = events_list\n",
    "\n"
   ]
  },
  {
   "cell_type": "code",
   "execution_count": null,
   "metadata": {},
   "outputs": [],
   "source": []
  },
  {
   "cell_type": "code",
   "execution_count": 26,
   "metadata": {},
   "outputs": [],
   "source": [
    "sessions_list = []\n",
    "\n",
    "last_session_id = -1\n",
    "\n",
    "session = []\n",
    "time = 0\n",
    "last_datetime = datetime.now()\n",
    "\n",
    "for event in events_list:\n",
    "    current_datetime = datetime.strptime(event['timestamp'], '%Y-%m-%dT%H:%M:%S')\n",
    "    time = current_datetime - last_datetime\n",
    "    last_datetime = current_datetime\n",
    "\n",
    "    current_session_id = event[\"session_id\"]\n",
    "    if last_session_id != current_session_id:\n",
    "        last_session_id = current_session_id\n",
    "        sessions_list.append([])\n",
    "        session = sessions_list[-1]\n",
    "        time = current_datetime - current_datetime\n",
    "\n",
    "    product = products[event[\"product_id\"]]\n",
    "    session.append(Event(time, users[event[\"user_id\"]].city, product.price, product.category, event[\"event_type\"], event[\"offered_discount\"]))\n"
   ]
  },
  {
   "cell_type": "code",
   "execution_count": 27,
   "metadata": {
    "collapsed": true
   },
   "outputs": [
    {
     "name": "stdout",
     "output_type": "stream",
     "text": [
      "Zapisano rekordy w pliku json\n"
     ]
    }
   ],
   "source": [
    "with open('records2.json', 'w') as file:\n",
    "    json.dump([[r.__dict__ for r in records] for records in sessions_list],\n",
    "              file, indent=2)\n",
    "\n",
    "print(\"Zapisano rekordy w pliku json\")"
   ]
  },
  {
   "cell_type": "code",
   "execution_count": null,
   "metadata": {},
   "outputs": [],
   "source": []
  }
 ],
 "metadata": {
  "kernelspec": {
   "display_name": "Python 3",
   "language": "python",
   "name": "python3"
  },
  "language_info": {
   "codemirror_mode": {
    "name": "ipython",
    "version": 3
   },
   "file_extension": ".py",
   "mimetype": "text/x-python",
   "name": "python",
   "nbconvert_exporter": "python",
   "pygments_lexer": "ipython3",
   "version": "3.7.6"
  }
 },
 "nbformat": 4,
 "nbformat_minor": 1
}
