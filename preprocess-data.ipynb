{
 "cells": [
  {
   "cell_type": "markdown",
   "metadata": {
    "pycharm": {
     "name": "#%% md\n"
    }
   },
   "source": [
    "Wczytajmy oczyszczone dane"
   ]
  },
  {
   "cell_type": "code",
   "execution_count": 14,
   "metadata": {
    "pycharm": {
     "name": "#%%\n"
    }
   },
   "outputs": [],
   "source": [
    "import json\n",
    "from datetime import datetime"
   ]
  },
  {
   "cell_type": "code",
   "execution_count": 15,
   "metadata": {
    "pycharm": {
     "name": "#%%\n"
    }
   },
   "outputs": [],
   "source": [
    "folder = 'data'\n",
    "\n",
    "with open(folder + '/events.json') as file:\n",
    "    events_list = json.load(file)\n",
    "\n",
    "with open(folder + '/products.json') as file:\n",
    "    products_list = json.load(file)\n",
    "\n",
    "with open(folder + '/users.json') as file:\n",
    "    users_list = json.load(file)\n"
   ]
  },
  {
   "cell_type": "markdown",
   "metadata": {},
   "source": [
    "Przygotujmy atrybuty do modelu\n",
    "- miejsce zamieszkania\n",
    "- cena produktu\n",
    "- ile razy użytkownik wyświetlił wcześniej dany produkt\n",
    "- ile produktów danej kategorii obejrzał użytkownik\n",
    "- ile razy użytkownik kupił produkt z daną zniżką lub niższą\n",
    "- zniżka\n"
   ]
  },
  {
   "cell_type": "code",
   "execution_count": 16,
   "metadata": {
    "pycharm": {
     "name": "#%%\n"
    }
   },
   "outputs": [
    {
     "name": "stdout",
     "output_type": "stream",
     "text": [
      "Zapisano rekordy w pliku json\n"
     ]
    }
   ],
   "source": [
    "class User:\n",
    "    def __init__(self, city):\n",
    "        self.city = city\n",
    "\n",
    "        self.products_views_counts = dict()\n",
    "\n",
    "        self.category_views_counts = dict()\n",
    "\n",
    "        self.bought_with_discount_counts = dict()\n",
    "\n",
    "        self.bought_category_counts = dict()\n",
    "\n",
    "users = dict()\n",
    "\n",
    "for user in users_list:\n",
    "    users[user['user_id']] = User(user['city'])\n",
    "\n",
    "\n",
    "class Product:\n",
    "    def __init__(self, product_id,  price, category):\n",
    "        self.product_id = product_id\n",
    "        self.price = price\n",
    "        self.category = category\n",
    "\n",
    "products = dict()\n",
    "\n",
    "for product in products_list:\n",
    "    products[product['product_id']] = Product(product['product_id'], product['price'], product['category_path'])\n",
    "\n",
    "class Event:\n",
    "    def __init__(self, user, datetime, product, bought, discount,session_id):\n",
    "        self.user = user\n",
    "        self.datetime = datetime\n",
    "        self.product = product\n",
    "        self.bought = bought\n",
    "        self.discount = discount\n",
    "        self.session_id = session_id\n",
    "\n",
    "events = []\n",
    "\n",
    "\n",
    "for event in events_list:\n",
    "    bought = False if event['event_type'] == 'VIEW_PRODUCT' else True\n",
    "    if bought:\n",
    "        events[-1].bought = True\n",
    "    else:\n",
    "        user = users[event['user_id']]\n",
    "        product = products[event['product_id']]\n",
    "        datetime = datetime.strptime(event['timestamp'], '%Y-%m-%dT%H:%M:%S')\n",
    "        events.append(Event(user,datetime, product,bought, event['offered_discount'], event['session_id']))\n",
    "\n",
    "\n",
    "class Record:\n",
    "    def __init__(self, city, price, product_views_count, category_view_count,\n",
    "                 bought_with_lower_count ,bought_category_count,  discount,bought):\n",
    "        self.city = city\n",
    "        self.price = price\n",
    "        self.product_views_count = product_views_count\n",
    "        self.category_view_count = category_view_count\n",
    "        self.bought_with_lower_count = bought_with_lower_count\n",
    "        self.bought_category_count = bought_category_count\n",
    "        self.discount = discount\n",
    "        self.bought = bought\n",
    "\n",
    "\n",
    "records = []\n",
    "\n",
    "for e in events:\n",
    "\n",
    "    product_views_count = e.user.products_views_counts.get(e.product.product_id, 0)\n",
    "    e.user.products_views_counts[e.product.product_id] = product_views_count + 1\n",
    "\n",
    "    category_view_count = e.user.category_views_counts.get(e.product.category, 0)\n",
    "    e.user.category_views_counts[e.product.category] = category_view_count + 1\n",
    "\n",
    "    bought_with_lower_count = 0\n",
    "    for d in range(0,e.discount + 1, 5):\n",
    "        bought_with_lower_count += e.user.bought_with_discount_counts.get(d, 0)\n",
    "\n",
    "    bought_category_count = e.user.bought_category_counts.get(e.product.category, 0)\n",
    "\n",
    "    if e.bought:\n",
    "        e.user.bought_with_discount_counts[e.discount] = e.user.bought_with_discount_counts.get(e.discount,0) + 1\n",
    "        e.user.bought_category_counts[e.product.category] = bought_category_count + 1\n",
    "\n",
    "\n",
    "    r = Record(e.user.city, e.product.price, product_views_count, category_view_count,bought_with_lower_count,\n",
    "               bought_category_count, e.discount, e.bought)\n",
    "    records.append(r)\n",
    "\n",
    "with open('records.json', 'w') as file:\n",
    "    json.dump([r.__dict__ for r  in records],file, indent=2)\n",
    "\n",
    "print(\"Zapisano rekordy w pliku json\")"
   ]
  }
 ],
 "metadata": {
  "kernelspec": {
   "display_name": "Python 3",
   "language": "python",
   "name": "python3"
  },
  "language_info": {
   "codemirror_mode": {
    "name": "ipython",
    "version": 3
   },
   "file_extension": ".py",
   "mimetype": "text/x-python",
   "name": "python",
   "nbconvert_exporter": "python",
   "pygments_lexer": "ipython3",
   "version": "3.7.6"
  }
 },
 "nbformat": 4,
 "nbformat_minor": 1
}
