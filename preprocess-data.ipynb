{
 "cells": [
  {
   "cell_type": "markdown",
   "source": [
    "Wczytajmy oczyszczone dane"
   ],
   "metadata": {
    "collapsed": false,
    "pycharm": {
     "name": "#%% md\n"
    }
   }
  },
  {
   "cell_type": "code",
   "execution_count": 1,
   "outputs": [],
   "source": [
    "import json\n",
    "from datetime import datetime"
   ],
   "metadata": {
    "collapsed": false,
    "pycharm": {
     "name": "#%%\n"
    }
   }
  },
  {
   "cell_type": "code",
   "execution_count": 2,
   "outputs": [],
   "source": [
    "folder = 'data'\n",
    "\n",
    "with open(folder + '/events.json') as file:\n",
    "    events_list = json.load(file)\n",
    "\n",
    "with open(folder + '/products.json') as file:\n",
    "    products_list = json.load(file)\n",
    "\n",
    "with open(folder + '/users.json') as file:\n",
    "    users_list = json.load(file)\n"
   ],
   "metadata": {
    "collapsed": false,
    "pycharm": {
     "name": "#%%\n"
    }
   }
  },
  {
   "cell_type": "markdown",
   "source": [
    "Przygotujmy atrybuty do modelu\n",
    "- miejsce zamieszkania\n",
    "- cena produktu\n",
    "- ile razy użytkownik wyświetlił wcześniej dany produkt\n",
    "- ile produktów danej kategorii obejrzał użytkownik\n",
    "- ile razy użytkownik kupił produkt z daną zniżką lub niższą\n",
    "- zniżka\n"
   ],
   "metadata": {
    "collapsed": false
   }
  },
  {
   "cell_type": "code",
   "execution_count": 3,
   "outputs": [],
   "source": [
    "class User:\n",
    "    def __init__(self, city):\n",
    "        self.city = city\n",
    "\n",
    "        self.products_views_counts = dict()\n",
    "\n",
    "        self.category_views_counts = dict()\n",
    "\n",
    "        self.bought_with_discount_counts = dict()\n",
    "\n",
    "users = dict()\n",
    "\n",
    "for user in users_list:\n",
    "    users[user['user_id']] = User(user['city'])\n",
    "\n",
    "\n",
    "class Product:\n",
    "    def __init__(self, price, category):\n",
    "        self.price = price\n",
    "        self.category = category\n",
    "\n",
    "products = dict()\n",
    "\n",
    "for product in products_list:\n",
    "    products[product['product_id']] = Product(product['price'], product['category_path'])\n",
    "\n",
    "class Event:\n",
    "    def __init__(self, user, datetime, product, bought, discount):\n",
    "        self.user = user\n",
    "        self.datetime = datetime\n",
    "        self.product = product\n",
    "        self.bought = bought\n",
    "\n",
    "events = []\n",
    "\n",
    "\n",
    "for event in events_list:\n",
    "    user = users[event['user_id']]\n",
    "    product = products[event['product_id']]\n",
    "    datetime = datetime.strptime(event['timestamp'], '%Y-%m-%dT%H:%M:%S')\n",
    "    bought = False if event['event_type'] == 'VIEW_PRODUCT' else False\n",
    "    events.append(Event(user, event,datetime, product, event['offered_discount']))\n",
    "\n",
    "\n",
    "class Record:\n",
    "    def __init__(self, city, price, product_views_count, category_view_count, bought_with_lower_count , discount):\n",
    "        self.city = city\n",
    "        self.price = price\n",
    "        self.product_views_count = product_views_count\n",
    "        self.category_view_count = category_view_count\n",
    "        self.bought_with_lower_count = bought_with_lower_count\n",
    "        self.discount = discount\n",
    "\n",
    "\n",
    "records = []\n",
    "\n",
    "for event in events:\n",
    "    pass"
   ],
   "metadata": {
    "collapsed": false,
    "pycharm": {
     "name": "#%%\n"
    }
   }
  }
 ],
 "metadata": {
  "kernelspec": {
   "display_name": "Python 3",
   "language": "python",
   "name": "python3"
  },
  "language_info": {
   "codemirror_mode": {
    "name": "ipython",
    "version": 2
   },
   "file_extension": ".py",
   "mimetype": "text/x-python",
   "name": "python",
   "nbconvert_exporter": "python",
   "pygments_lexer": "ipython2",
   "version": "2.7.6"
  }
 },
 "nbformat": 4,
 "nbformat_minor": 0
}