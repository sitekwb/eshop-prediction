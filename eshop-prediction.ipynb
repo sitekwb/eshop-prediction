{
  "nbformat": 4,
  "nbformat_minor": 0,
  "metadata": {
    "kernelspec": {
      "display_name": "Python 3",
      "language": "python",
      "name": "python3"
    },
    "language_info": {
      "codemirror_mode": {
        "name": "ipython",
        "version": 3
      },
      "file_extension": ".py",
      "mimetype": "text/x-python",
      "name": "python",
      "nbconvert_exporter": "python",
      "pygments_lexer": "ipython3",
      "version": "3.7.2"
    },
    "colab": {
      "name": "eshop-prediction.ipynb",
      "provenance": []
    }
  },
  "cells": [
    {
      "cell_type": "markdown",
      "metadata": {
        "id": "PdxelWviFJcu",
        "colab_type": "text"
      },
      "source": [
        "# Projekt IUM Politechnika Warszawska (Dokumentacja + Realizacja)"
      ]
    },
    {
      "cell_type": "markdown",
      "metadata": {
        "id": "36kaEiuPFJcv",
        "colab_type": "text"
      },
      "source": [
        "## Podstawowe informacje\n",
        "\n",
        "### Prowadzący\n",
        "dr inż. Paweł Zawistowski\n",
        "\n",
        "### Autorzy\n",
        "- Maciej Kasprzyk\n",
        "- Wojciech Sitek\n",
        "\n",
        "### Tytuł projektu\n",
        "e-Shoppping - decyzja o zniżkach dla klientów\n",
        "\n",
        "### Numer zadania\n",
        "1.03\n",
        "\n",
        "### Temat projektu\n",
        "Niektórzy klienci nie mogą zdecydować się na zakup oglądając produkt na stronie – ale pewnie gdybyśmy wiedzieli, które to są osoby, to odpowiednia zniżka skłoniłaby ich do zakupu."
      ]
    },
    {
      "cell_type": "markdown",
      "metadata": {
        "id": "I_Z8hOMkFJcw",
        "colab_type": "text"
      },
      "source": [
        "## Etap 1 - dokumentacja wstępna\n",
        "\n",
        "### Termin\n",
        "2020.05.01\n",
        "\n",
        "### Do zrobienia\n",
        "- definicja problemu biznesowego i zdefiniowanie zadania/zadań modelowania,.\n",
        "- analiza danych z perspektywy realizacji tych zadań (trzeba ocenić, czy dostarczone dane są wystarczające – może czegoś brakuje, może coś trzeba poprawić, domagać się innych danych, ...)"
      ]
    },
    {
      "cell_type": "markdown",
      "metadata": {
        "id": "pwLztz5xFJcx",
        "colab_type": "text"
      },
      "source": [
        "# Definicja problemu biznesowego i zadań modelowania\n",
        "\n",
        "1. Jaka jest obecna sytuacja?\n",
        "    - W obecnej sytuacji działa aplikacja webowa sklepu internetowego, w którym można zdalnie dokonać zakupu produktów o określonej cenie.\n",
        "    - Aplikacja rejestruje historię zakupów i obsługuje logowanie użytkowników.\n",
        "    - Sklep zbiera logi ze swojej działalności o 4 rodzajach: użytkownicy, sesje, dostawy oraz produkty.\n",
        "    - Sklep prosperuje bardzo dobrze, jednak kierownictwo nie chce \"osiąść na laurach\".\n",
        "\n",
        "2. Jakie są obserwacje stanu faktycznego i przypuszczenia odnośnie działalności sklepu?\n",
        "    - W firmie powstało przypuszczenie, że wielu klientów przegląda ofertę firmy, ale finalnie nie decyduje się na zakup produktów z powodu lekko zbyt wysokiej ceny.\n",
        "    - Gdyby jednak dla konkretnego klienta zostało zaadrasowane zaproszenie do tańszego zakupu.\n",
        "\n",
        "3. Co ma zostać wprowadzone?\n",
        "    - Istnieje podejrzenie, że analiza działalności sklepu internetowego i wprowadzenie udogodnień związanych z uczeniem maszynowym przyniesie duże korzyści.\n",
        "    - Zostało więc zaproponowane usprawnienie, polegające na przewidywaniu, czy zaproponować zniżkę klientowi przeglądającemu dany produkt, a jeśli tak to w jakiej wysokości.\n",
        "\n",
        "4. Jakie są dostępne zasoby?\n",
        "    - Zasoby, z których można korzystać podczas projektu to dane z przeszłości dotyczące użytkowników, sesji, dostaw oraz produktów oraz temat projektu zadany w konwencji biznesowej (bez szczegółów analitycznych czy technicznych).\n",
        "    \n",
        "6. Jakie są założenia i ograniczenia?\n",
        "    - Kierownictwo przeznacza określoną kwotę tygodniowo na zniżki dla klientów. (Wybrany został okres tygodniowy, ponieważ zależnie od dnia tygodnia występują różne rodzaje zakupów z różnym nasileniem, a tydzień stanowi zazwyczaj pełny cykl czasowy.)\n",
        "    - Rozwiązanie przyznaje zniżki o mniej więcej równej wartości. Chodzi o to, żeby nie wykorzystać całego budżetu na jeden produkt.\n",
        "    - Rozwiązanie przyznaje zniżkę o wartości maksymalnie 20% wartości produktu. Celem rozwiązania nie jest spowodowanie za wszelką cenę za pomocą wszystkich kosztów, żeby klienci kupowali produkty, ale żeby w ramach ustalonego budżetu osiągnąć jak najwyższą sprzedaż.\n",
        "\n",
        "5. Jakie właściwości i cechy powinno mieć rozwiązanie?\n",
        "    - Rozwiązanie powinno proponować jak najmniejszą zniżkę taką, żeby klient, który nie zdecydowałby się na zakup, przekonał się do niego.\n",
        "\n",
        "6. Słowniczek pojęć\n",
        "    - sprzedaż - łączna kwota, za jaką kupiono dane produkty\n",
        "\n",
        "### Biznesowe kryteria sukcesu\n",
        "- Organizacja jest znana ze zniżek przy zakupach.\n",
        "- Organizacja przewyższa konkurencję w niższych cenach produktów, a jednocześnie stosuje promocje tam, gdzie jest to najbardziej opłacalne.\n",
        "- Inwestycja w przygotowanie i wdrożenie projektu zwraca się po określonym czasie, a następnie wytwarza zyski dla organizacji.\n",
        "- Sklep może być reklamowany jako \"inteligentny\", \"wykorzystujący nowoczesne narzędzia\", \"wykorzystujący sztuczną inteligencję\".\n",
        "    \n",
        "### Zadania modelowania\n",
        "W ramach projektu będą realizowane następujące zadania modelowania:\n",
        "- Klasyfikator binarny - decyduje, czy klient kupi produkt bez zniżki, czy potrzebna mu jest zniżka. (Realizowany jako regresja z prawdopodobieństwem kupna bez zniżki jako wynikiem oraz ustalonymi przedziałami, od jakiej do jakiej wartości prawdopodobieństwa potrzebna jest zniżka. Warto zauważyć, że gdy p-stwo kupna jest bardzo duże, klient nie potrzebuje zniżki, bo i tak kupi produkt, oraz gdy p-stwo kupna jest bardzo małe, raczej żadna zniżka nie skłoni klienta do kupna)\n",
        "- Regresja - decyduje o wysokości zniżki. Bierze pod uwagę dostępny budżet na przewidywaną ilość produktów, prawdopodobieństwo kupna bez zniżki (wyliczoną w pierwszym zadaniu modelowania) oraz inne atrybuty."
      ]
    },
    {
      "cell_type": "markdown",
      "metadata": {
        "id": "dT1dYQDWFJcy",
        "colab_type": "text"
      },
      "source": [
        "# Analiza danych\n",
        "\n",
        "### Zadanie do wykonania\n",
        "Analiza danych z perspektywy realizacji zdefiniowanych zadań modelowania (trzeba ocenić, czy dostarczone dane są wystarczające – może czegoś brakuje, może coś trzeba poprawić, domagać się innych danych, ...)\n",
        "\n",
        "### Założenia analityczno-techniczne\n",
        "Projekt będzie realizowany w języku Python 3. Cała dokumentacja i realizacja projektu znajduje się w jednym pliku typu Jupyter Notebook. Realizacja zostanie na końcu projektu wyeksportowana do pliku i skompresowana narzędziem _zip_. Dane zostają wczytane z 4 plików: _deliveries.jsonl_, _products.jsonl_, _sessions.jsonl_ oraz _users.jsonl_.\n",
        "\n",
        "### Plan wykonania zadania\n",
        "Analiza danych obejmuje wczytanie danych z plików, wymienionych powyżej, przeprowadzenie pogłębionej analizy tych danych za pomocą następujących bibliotek języka Python: _numpy_, _pandas_, _scikit-learn_ oraz wyciągnięcie wniosków na podstawie analizy danych oraz zadań biznesowych."
      ]
    },
    {
      "cell_type": "markdown",
      "metadata": {
        "id": "n5PnMjFOHAp4",
        "colab_type": "text"
      },
      "source": [
        "#### Analiza danych sesji"
      ]
    },
    {
      "cell_type": "markdown",
      "metadata": {
        "id": "OXrDS0oEKlPP",
        "colab_type": "text"
      },
      "source": [
        "Po przeglądaniu danych stwierdzamy, że są braki w kolumnach `user_id` oraz `product_id`. Sprawdźmy jak dużo danych brakuje."
      ]
    },
    {
      "cell_type": "code",
      "metadata": {
        "id": "qd6aaap5FJcy",
        "colab_type": "code",
        "colab": {
          "base_uri": "https://localhost:8080/",
          "height": 51
        },
        "outputId": "208e4e8d-c4b9-4360-84ac-3c2dc58fa044"
      },
      "source": [
        "import json\n",
        "\n",
        "events = []\n",
        "with open(\"/sessions.txt\") as file:\n",
        "  lines = [x.strip() for x in file.readlines()]\n",
        "  events = [json.loads(x) for x in lines]\n",
        "\n",
        "def count_nones(array, field):\n",
        "  return sum(e[field] is None for e in array)\n",
        "\n",
        "print(\"Null products count: \", count_nones(events,'product_id'))\n",
        "print(\"Null users count: \", count_nones(events,'user_id'))"
      ],
      "execution_count": 65,
      "outputs": [
        {
          "output_type": "stream",
          "text": [
            "Null products count:  2538\n",
            "Null users count:  2501\n"
          ],
          "name": "stdout"
        }
      ]
    },
    {
      "cell_type": "markdown",
      "metadata": {
        "id": "u3cwAz5_K0o-",
        "colab_type": "text"
      },
      "source": [
        "Możemy uzupełnić `user_id` na podstawie wartości z tej samej sesji."
      ]
    },
    {
      "cell_type": "code",
      "metadata": {
        "id": "ZizqRlJxLyer",
        "colab_type": "code",
        "colab": {
          "base_uri": "https://localhost:8080/",
          "height": 34
        },
        "outputId": "e7da9f86-390f-45dc-bb3e-3c6aea00744e"
      },
      "source": [
        "# prepare dict\n",
        "user_of_session = dict() # session_id as key\n",
        "for event in events:\n",
        "  session_id = event['session_id']\n",
        "  user_id = event['user_id']\n",
        "  if user_id != None and not session_id in user_of_session:\n",
        "    user_of_session[session_id] = user_id\n",
        "\n",
        "# complete the data    \n",
        "for event in events:\n",
        "  if event['user_id'] == None and event['session_id'] in user_of_session:\n",
        "    event['user_id'] = user_of_session[event['session_id']]\n",
        "\n",
        "# check\n",
        "print(\"Null users count: \", count_nones(events,'user_id'))"
      ],
      "execution_count": 66,
      "outputs": [
        {
          "output_type": "stream",
          "text": [
            "Null users count:  83\n"
          ],
          "name": "stdout"
        }
      ]
    },
    {
      "cell_type": "markdown",
      "metadata": {
        "id": "AtncGSOLR3Vy",
        "colab_type": "text"
      },
      "source": [
        "Usuńmy rekordy, których nie dało się wypełnić."
      ]
    },
    {
      "cell_type": "code",
      "metadata": {
        "id": "hTZxcfv8UMVd",
        "colab_type": "code",
        "colab": {
          "base_uri": "https://localhost:8080/",
          "height": 34
        },
        "outputId": "2b4689c1-11da-467b-cd0f-f711f3143fa0"
      },
      "source": [
        "events = [e for e in events if e['user_id'] != None]\n",
        "# check\n",
        "print(\"Null products count: \", count_nones(events,'user_id'))"
      ],
      "execution_count": 67,
      "outputs": [
        {
          "output_type": "stream",
          "text": [
            "Null products count:  0\n"
          ],
          "name": "stdout"
        }
      ]
    },
    {
      "cell_type": "markdown",
      "metadata": {
        "id": "Y5LLAIwXN4Xt",
        "colab_type": "text"
      },
      "source": [
        "*Zakładamy, że regularność pola `product_id` wynika z charakterystki generatora i nie powinniśmy na jej podstawie uzupełniać danych.*  \n",
        "Niestety nie możemy nic zrobić z brakującymi wartościami `product_id`.  \n",
        "Usuńmy rekordy z brakujacymi danymi.  "
      ]
    },
    {
      "cell_type": "code",
      "metadata": {
        "id": "7dkVmOoZO0ev",
        "colab_type": "code",
        "colab": {
          "base_uri": "https://localhost:8080/",
          "height": 34
        },
        "outputId": "a36cb2f0-1c2d-4e86-dcc0-ae2e3a8c918a"
      },
      "source": [
        "events = [e for e in events if e['product_id'] != None]\n",
        "# check\n",
        "print(\"Null products count: \", count_nones(events,'product_id'))"
      ],
      "execution_count": 68,
      "outputs": [
        {
          "output_type": "stream",
          "text": [
            "Null products count:  0\n"
          ],
          "name": "stdout"
        }
      ]
    },
    {
      "cell_type": "markdown",
      "metadata": {
        "id": "K6U2rXO2PVRh",
        "colab_type": "text"
      },
      "source": [
        "Sprawdźmy ile jest rekordów oraz różnych sesji."
      ]
    },
    {
      "cell_type": "code",
      "metadata": {
        "id": "TIS-izAtPibq",
        "colab_type": "code",
        "colab": {
          "base_uri": "https://localhost:8080/",
          "height": 51
        },
        "outputId": "086d4b1f-285d-4699-f435-33c1d7c4b44f"
      },
      "source": [
        "print(\"sessions count\", len(user_of_session))\n",
        "print(\"events count\", len(events))"
      ],
      "execution_count": 69,
      "outputs": [
        {
          "output_type": "stream",
          "text": [
            "sessions count 9391\n",
            "events count 48218\n"
          ],
          "name": "stdout"
        }
      ]
    },
    {
      "cell_type": "markdown",
      "metadata": {
        "id": "eaPEc1h6VqBx",
        "colab_type": "text"
      },
      "source": [
        "#### Analiza danych użytkowników\n"
      ]
    },
    {
      "cell_type": "markdown",
      "metadata": {
        "id": "VoE2WgiNVs-8",
        "colab_type": "text"
      },
      "source": [
        "Dane użytkowników wyglądają na kompletne. Policzmy ile mamy rekordów."
      ]
    },
    {
      "cell_type": "code",
      "metadata": {
        "id": "AMFLI3N4V2NZ",
        "colab_type": "code",
        "colab": {
          "base_uri": "https://localhost:8080/",
          "height": 34
        },
        "outputId": "afb749e4-a8e7-4087-fa5c-3e6b370282fe"
      },
      "source": [
        "users = []\n",
        "with open(\"/users.txt\") as file:\n",
        "  lines = [x.strip() for x in file.readlines()]\n",
        "  users = [json.loads(x) for x in lines]\n",
        "\n",
        "print('users counts', len(users))"
      ],
      "execution_count": 70,
      "outputs": [
        {
          "output_type": "stream",
          "text": [
            "users counts 200\n"
          ],
          "name": "stdout"
        }
      ]
    },
    {
      "cell_type": "markdown",
      "metadata": {
        "id": "krNzxAJqWAlL",
        "colab_type": "text"
      },
      "source": [
        "#### Analiza danych produktów"
      ]
    },
    {
      "cell_type": "markdown",
      "metadata": {
        "id": "lIhR_8g_WQ6C",
        "colab_type": "text"
      },
      "source": [
        "Po przejrzeniu danych produktów dostrzegamy, że niektóre ceny są błednę. Występują wartości ujemne oraz wartości, które są o kilka rzędów wielkości zawyżone. Rekordów produktów jest mało (około 300) a błednych jeszcze mniej (około 30). Dla poprawności modelu nie ma potrzeby, aby cena była znana dokładnie, ważny jest rząd wielkości. Najwygodniej będzie poprawić błędne rekordy ręcznie. Błędne ceny oszacujemy na podstawie naszej wiedzy eksperckiej na temat cen produktów w internecie (czytaj: sprawdzimy w google)."
      ]
    },
    {
      "cell_type": "markdown",
      "metadata": {
        "id": "D9OfSEP_if_d",
        "colab_type": "text"
      },
      "source": [
        "Spójrzmy na dane produktów po ręcznym skorygowaniu cen:"
      ]
    },
    {
      "cell_type": "code",
      "metadata": {
        "id": "iRuWHs1TilcA",
        "colab_type": "code",
        "colab": {
          "base_uri": "https://localhost:8080/",
          "height": 51
        },
        "outputId": "97d155e6-c783-43eb-8250-40c8a7edcbb7"
      },
      "source": [
        "products = []\n",
        "with open(\"/products_fix.txt\") as file:\n",
        "  lines = [x.strip() for x in file.readlines()]\n",
        "  for line in lines:\n",
        "    products.append(json.loads(line))\n",
        "\n",
        "\n",
        "print('ujemne ceny:', sum(p[\"price\"] < 0 for p in products))\n",
        "print('ceny wyzsze niz 1000:', sum(p[\"price\"] > 1000 for p in products))"
      ],
      "execution_count": 85,
      "outputs": [
        {
          "output_type": "stream",
          "text": [
            "ujemne ceny: 0\n",
            "ceny wyzsze niz 1000: 18\n"
          ],
          "name": "stdout"
        }
      ]
    },
    {
      "cell_type": "markdown",
      "metadata": {
        "id": "mQzdM7S3lcs4",
        "colab_type": "text"
      },
      "source": [
        "Po poprawieniu nie mamy cen ujemnych. Sprawdźmy ceny wysokie."
      ]
    },
    {
      "cell_type": "code",
      "metadata": {
        "id": "VU3yS_rXlpJF",
        "colab_type": "code",
        "colab": {
          "base_uri": "https://localhost:8080/",
          "height": 323
        },
        "outputId": "8a88374e-3054-4544-e5aa-3af2d3e9d74a"
      },
      "source": [
        "for p in products:\n",
        "  if p[\"price\"] > 1000:\n",
        "    print(p['price'],\"--\",p[\"product_name\"])"
      ],
      "execution_count": 88,
      "outputs": [
        {
          "output_type": "stream",
          "text": [
            "2048.5 -- Kyocera FS-1135MFP\n",
            "7639.0 -- Kyocera FS-3640MFP\n",
            "3029.0 -- LCD Iiyama T1932MSC\n",
            "1079.0 -- LCD NEC EA223WM\n",
            "2199.9 -- Samsung Galaxy S III GT-i9300\n",
            "1117.01 -- LCD Asus VK278Q\n",
            "1419.0 -- LCD Asus PA248Q\n",
            "2065.0 -- LCD Iiyama T1931SR\n",
            "1998.14 -- Ricoh SG3110DN\n",
            "2399.0 -- Samsung CLX-6260FR ### Gadżety Samsung ### Eksploatacja -10% ### Negocjuj Cenę ### Raty ### Szybkie Płatności ### Szybka Wysyłka\n",
            "3777.0 -- Kyocera FS-C2026MFP\n",
            "5126.0 -- Kyocera FS-3540MFP\n",
            "4598.0 -- Kyocera FS-3040MFP\n",
            "5301.9 -- Kyocera FS-3140MFP\n",
            "5259.0 -- OKI B840dn\n",
            "1816.97 -- Apple iPad mini 64GB\n",
            "2317.02 -- Apple iPad mini 64GB 4G\n",
            "1303.96 -- Plantronics Savi W740\n"
          ],
          "name": "stdout"
        }
      ]
    },
    {
      "cell_type": "markdown",
      "metadata": {
        "id": "P_1fus4cl9u0",
        "colab_type": "text"
      },
      "source": [
        "Wszystkie ceny mieszczą się w przedzialne `(0 ; 10 000)`. Wszystkie powyżej `1000 zł` są uzasadnione, ponieważ dotyczą produktów faktycznie drogich."
      ]
    }
  ]
}