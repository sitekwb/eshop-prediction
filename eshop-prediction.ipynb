{
 "cells": [
  {
   "cell_type": "markdown",
   "metadata": {},
   "source": [
    "# Projekt IUM Politechnika Warszawska (Dokumentacja + Realizacja)"
   ]
  },
  {
   "cell_type": "markdown",
   "metadata": {},
   "source": [
    "## Podstawowe informacje\n",
    "\n",
    "### Prowadzący\n",
    "dr inż. Paweł Zawistowski\n",
    "\n",
    "### Autorzy\n",
    "- Maciej Kasprzyk\n",
    "- Wojciech Sitek\n",
    "\n",
    "### Tytuł projektu\n",
    "e-Shoppping - decyzja o zniżkach dla klientów\n",
    "\n",
    "### Numer zadania\n",
    "1.03\n",
    "\n",
    "### Temat projektu\n",
    "Niektórzy klienci nie mogą zdecydować się na zakup oglądając produkt na stronie – ale pewnie gdybyśmy wiedzieli, które to są osoby, to odpowiednia zniżka skłoniłaby ich do zakupu."
   ]
  },
  {
   "cell_type": "markdown",
   "metadata": {},
   "source": [
    "## Etap 1 - dokumentacja wstępna\n",
    "\n",
    "### Termin\n",
    "2020.05.01\n",
    "\n",
    "### Do zrobienia\n",
    "- definicja problemu biznesowego i zdefiniowanie zadania/zadań modelowania,.\n",
    "- analiza danych z perspektywy realizacji tych zadań (trzeba ocenić, czy dostarczone dane są wystarczające – może czegoś brakuje, może coś trzeba poprawić, domagać się innych danych, ...)"
   ]
  },
  {
   "cell_type": "markdown",
   "metadata": {},
   "source": [
    "# Definicja problemu biznesowego i zadań modelowania\n",
    "\n",
    "1. Jaka jest obecna sytuacja?\n",
    "    - W obecnej sytuacji działa aplikacja webowa sklepu internetowego, w którym można zdalnie dokonać zakupu produktów o określonej cenie.\n",
    "    - Aplikacja rejestruje historię zakupów i obsługuje logowanie użytkowników.\n",
    "    - Sklep zbiera logi ze swojej działalności o 4 rodzajach: użytkownicy, sesje, dostawy oraz produkty.\n",
    "    - Sklep prosperuje bardzo dobrze, jednak kierownictwo nie chce \"osiąść na laurach\".\n",
    "\n",
    "2. Jakie są obserwacje stanu faktycznego i przypuszczenia odnośnie działalności sklepu?\n",
    "    - W firmie powstało przypuszczenie, że wielu klientów przegląda ofertę firmy, ale finalnie nie decyduje się na zakup produktów z powodu lekko zbyt wysokiej ceny.\n",
    "    - Gdyby jednak dla konkretnego klienta zostało zaadrasowane zaproszenie do tańszego zakupu.\n",
    "\n",
    "3. Co ma zostać wprowadzone?\n",
    "    - Istnieje podejrzenie, że analiza działalności sklepu internetowego i wprowadzenie udogodnień związanych z uczeniem maszynowym przyniesie duże korzyści.\n",
    "    - Zostało więc zaproponowane usprawnienie, polegające na przewidywaniu, czy zaproponować zniżkę klientowi przeglądającemu dany produkt, a jeśli tak to w jakiej wysokości.\n",
    "\n",
    "4. Jakie są dostępne zasoby?\n",
    "    - Zasoby, z których można korzystać podczas projektu to dane z przeszłości dotyczące użytkowników, sesji, dostaw oraz produktów oraz temat projektu zadany w konwencji biznesowej (bez szczegółów analitycznych czy technicznych).\n",
    "    \n",
    "6. Jakie są założenia i ograniczenia?\n",
    "    - Kierownictwo przeznacza określoną kwotę tygodniowo na zniżki dla klientów. (Wybrany został okres tygodniowy, ponieważ zależnie od dnia tygodnia występują różne rodzaje zakupów z różnym nasileniem, a tydzień stanowi zazwyczaj pełny cykl czasowy.)\n",
    "    - Rozwiązanie przyznaje zniżki o mniej więcej równej wartości. Chodzi o to, żeby nie wykorzystać całego budżetu na jeden produkt.\n",
    "    - Rozwiązanie przyznaje zniżkę o wartości maksymalnie 20% wartości produktu. Celem rozwiązania nie jest spowodowanie za wszelką cenę za pomocą wszystkich kosztów, żeby klienci kupowali produkty, ale żeby w ramach ustalonego budżetu osiągnąć jak najwyższą sprzedaż.\n",
    "\n",
    "5. Jakie właściwości i cechy powinno mieć rozwiązanie?\n",
    "    - Rozwiązanie powinno proponować jak najmniejszą zniżkę taką, żeby klient, który nie zdecydowałby się na zakup, przekonał się do niego.\n",
    "\n",
    "6. Słowniczek pojęć\n",
    "    - sprzedaż - łączna kwota, za jaką kupiono dane produkty\n",
    "\n",
    "### Biznesowe kryteria sukcesu\n",
    "- Organizacja jest znana ze zniżek przy zakupach.\n",
    "- Organizacja przewyższa konkurencję w niższych cenach produktów, a jednocześnie stosuje promocje tam, gdzie jest to najbardziej opłacalne.\n",
    "- Inwestycja w przygotowanie i wdrożenie projektu zwraca się po określonym czasie, a następnie wytwarza zyski dla organizacji.\n",
    "- Sklep może być reklamowany jako \"inteligentny\", \"wykorzystujący nowoczesne narzędzia\", \"wykorzystujący sztuczną inteligencję\".\n",
    "    \n",
    "### Zadania modelowania\n",
    "W ramach projektu będą realizowane następujące zadania modelowania:\n",
    "- Klasyfikator binarny - decyduje, czy klient kupi produkt bez zniżki, czy potrzebna mu jest zniżka. (Realizowany jako regresja z prawdopodobieństwem kupna bez zniżki jako wynikiem oraz ustalonymi przedziałami, od jakiej do jakiej wartości prawdopodobieństwa potrzebna jest zniżka. Warto zauważyć, że gdy p-stwo kupna jest bardzo duże, klient nie potrzebuje zniżki, bo i tak kupi produkt, oraz gdy p-stwo kupna jest bardzo małe, raczej żadna zniżka nie skłoni klienta do kupna)\n",
    "- Regresja - decyduje o wysokości zniżki. Bierze pod uwagę dostępny budżet na przewidywaną ilość produktów, prawdopodobieństwo kupna bez zniżki (wyliczoną w pierwszym zadaniu modelowania) oraz inne atrybuty."
   ]
  },
  {
   "cell_type": "markdown",
   "metadata": {},
   "source": [
    "# Analiza danych\n",
    "\n",
    "### Zadanie do wykonania\n",
    "Analiza danych z perspektywy realizacji zdefiniowanych zadań modelowania (trzeba ocenić, czy dostarczone dane są wystarczające – może czegoś brakuje, może coś trzeba poprawić, domagać się innych danych, ...)\n",
    "\n",
    "### Założenia analityczno-techniczne\n",
    "Projekt będzie realizowany w języku Python 3. Cała dokumentacja i realizacja projektu znajduje się w jednym pliku typu Jupyter Notebook. Realizacja zostanie na końcu projektu wyeksportowana do pliku i skompresowana narzędziem _zip_. Dane zostają wczytane z 4 plików: _deliveries.jsonl_, _products.jsonl_, _sessions.jsonl_ oraz _users.jsonl_.\n",
    "\n",
    "### Plan wykonania zadania\n",
    "Analiza danych obejmuje wczytanie danych z plików, wymienionych powyżej, przeprowadzenie pogłębionej analizy tych danych za pomocą następujących bibliotek języka Python: _numpy_, _pandas_, _scikit-learn_ oraz wyciągnięcie wniosków na podstawie analizy danych oraz zadań biznesowych."
   ]
  },
  {
   "cell_type": "code",
   "execution_count": null,
   "metadata": {},
   "outputs": [],
   "source": []
  }
 ],
 "metadata": {
  "kernelspec": {
   "display_name": "Python 3",
   "language": "python",
   "name": "python3"
  },
  "language_info": {
   "codemirror_mode": {
    "name": "ipython",
    "version": 3
   },
   "file_extension": ".py",
   "mimetype": "text/x-python",
   "name": "python",
   "nbconvert_exporter": "python",
   "pygments_lexer": "ipython3",
   "version": "3.7.2"
  }
 },
 "nbformat": 4,
 "nbformat_minor": 2
}
