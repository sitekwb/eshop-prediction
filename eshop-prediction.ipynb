{
 "cells": [
  {
   "cell_type": "markdown",
   "metadata": {},
   "source": [
    "# Projekt IUM Politechnika Warszawska (Dokumentacja + Realizacja)"
   ]
  },
  {
   "cell_type": "markdown",
   "metadata": {},
   "source": [
    "## Podstawowe informacje\n",
    "\n",
    "### Prowadzący\n",
    "dr inż. Paweł Zawistowski\n",
    "\n",
    "### Autorzy\n",
    "- Maciej Kasprzyk\n",
    "- Wojciech Sitek\n",
    "\n",
    "### Tytuł projektu\n",
    "e-Shoppping - decyzja o zniżkach dla klientów\n",
    "\n",
    "### Numer zadania\n",
    "1.03\n",
    "\n",
    "### Temat projektu\n",
    "Niektórzy klienci nie mogą zdecydować się na zakup oglądając produkt na stronie – ale pewnie gdybyśmy wiedzieli, które to są osoby, to odpowiednia zniżka skłoniłaby ich do zakupu."
   ]
  },
  {
   "cell_type": "markdown",
   "metadata": {},
   "source": [
    "## Etap 1 - dokumentacja wstępna\n",
    "\n",
    "### Termin\n",
    "2020.05.01\n",
    "\n",
    "### Do zrobienia\n",
    "- definicja problemu biznesowego i zdefiniowanie zadania/zadań modelowania,.\n",
    "- analiza danych z perspektywy realizacji tych zadań (trzeba ocenić, czy dostarczone dane są wystarczające – może czegoś brakuje, może coś trzeba poprawić, domagać się innych danych, ...)"
   ]
  },
  {
   "cell_type": "markdown",
   "metadata": {},
   "source": [
    "## Definicja problemu biznesowego\n",
    "\n",
    "1. Jaka jest obecna sytuacja?\n",
    "Zasoby, z których można korzystać podczas projektu to dane z przeszłości dotyczące użytkowników, sesji, dostaw oraz produktów oraz temat projektu zadany w konwencji biznesowej (bez szczegółów analitycznych czy technicznych)."
   ]
  }
 ],
 "metadata": {
  "kernelspec": {
   "display_name": "Python 3",
   "language": "python",
   "name": "python3"
  },
  "language_info": {
   "codemirror_mode": {
    "name": "ipython",
    "version": 3
   },
   "file_extension": ".py",
   "mimetype": "text/x-python",
   "name": "python",
   "nbconvert_exporter": "python",
   "pygments_lexer": "ipython3",
   "version": "3.7.2"
  }
 },
 "nbformat": 4,
 "nbformat_minor": 2
}
