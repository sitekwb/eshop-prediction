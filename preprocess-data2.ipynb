{
 "cells": [
  {
   "cell_type": "markdown",
   "metadata": {
    "pycharm": {
     "name": "#%% md\n"
    }
   },
   "source": [
    "Wczytajmy oczyszczone dane"
   ]
  },
  {
   "cell_type": "code",
   "execution_count": 7,
   "metadata": {
    "pycharm": {
     "name": "#%%\n"
    }
   },
   "outputs": [],
   "source": [
    "import json\n",
    "from datetime import datetime"
   ]
  },
  {
   "cell_type": "code",
   "execution_count": 5,
   "metadata": {
    "pycharm": {
     "name": "#%%\n"
    }
   },
   "outputs": [],
   "source": [
    "folder = 'data'\n",
    "\n",
    "with open(folder + '/events.json') as file:\n",
    "    events_list = json.load(file)\n",
    "\n",
    "with open(folder + '/products.json') as file:\n",
    "    products_list = json.load(file)\n",
    "\n",
    "with open(folder + '/users.json') as file:\n",
    "    users_list = json.load(file)\n"
   ]
  },
  {
   "cell_type": "markdown",
   "metadata": {},
   "source": [
    "Jedną jednostką uczącą rekurencyjnej sieci neuronowej będzie lista wydarzeń w sesji.\n",
    "\n",
    "Na początku wyodrębniamy poszczególne sesje.\n",
    "\n",
    "Następnie przygotujmy atrybuty do modelu.\n",
    "- events_list:\n",
    "    - timestamp -> czas od poprzedniego wydarzenia\n",
    "    - event_type -> bool isBuying: ==\"BUY_PRODUCT\"\n",
    "    - offered_discount\n",
    "    - User\n",
    "    - Product\n",
    "- users_list:\n",
    "    - city -> hot 1\n",
    "- products_list:\n",
    "    - category -> hot 1\n",
    "    - price"
   ]
  },
  {
   "cell_type": "code",
   "execution_count": 6,
   "metadata": {
    "pycharm": {
     "name": "#%%\n"
    }
   },
   "outputs": [
    {
     "ename": "ModuleNotFoundError",
     "evalue": "No module named 'keras'",
     "output_type": "error",
     "traceback": [
      "\u001B[0;31m---------------------------------------------------------------------------\u001B[0m",
      "\u001B[0;31mModuleNotFoundError\u001B[0m                       Traceback (most recent call last)",
      "\u001B[0;32m<ipython-input-6-2e37126ebfe8>\u001B[0m in \u001B[0;36m<module>\u001B[0;34m\u001B[0m\n\u001B[1;32m     12\u001B[0m \u001B[0;34m\u001B[0m\u001B[0m\n\u001B[1;32m     13\u001B[0m \u001B[0;32mfrom\u001B[0m \u001B[0mnumpy\u001B[0m \u001B[0;32mimport\u001B[0m \u001B[0margmax\u001B[0m\u001B[0;34m\u001B[0m\u001B[0;34m\u001B[0m\u001B[0m\n\u001B[0;32m---> 14\u001B[0;31m \u001B[0;32mimport\u001B[0m \u001B[0mkeras\u001B[0m\u001B[0;34m\u001B[0m\u001B[0;34m\u001B[0m\u001B[0m\n\u001B[0m\u001B[1;32m     15\u001B[0m \u001B[0;32mfrom\u001B[0m \u001B[0mkeras\u001B[0m\u001B[0;34m.\u001B[0m\u001B[0mutils\u001B[0m \u001B[0;32mimport\u001B[0m \u001B[0mto_categorical\u001B[0m\u001B[0;34m\u001B[0m\u001B[0;34m\u001B[0m\u001B[0m\n\u001B[1;32m     16\u001B[0m \u001B[0;34m\u001B[0m\u001B[0m\n",
      "\u001B[0;31mModuleNotFoundError\u001B[0m: No module named 'keras'"
     ]
    }
   ],
   "source": [
    "#definition of classes\n",
    "\n",
    "cities = dict()\n",
    "city_set = set()\n",
    "for user in users_list:\n",
    "    city = user['city']\n",
    "    city_set.add(city)\n",
    "\n",
    "for user in users_list:\n",
    "    pass\n",
    "\n",
    "\n",
    "from numpy import argmax\n",
    "import keras\n",
    "from keras.utils import to_categorical\n",
    "\n",
    "def one_hot_encode(category_list):\n",
    "        # one hot encode\n",
    "        encoded = to_categorical(category_list)\n",
    "        # invert encoding\n",
    "        inverted = argmax(encoded[0])\n",
    "        print(inverted)\n",
    "\n",
    "\n",
    "products = dict()\n",
    "\n",
    "for product in products_list:\n",
    "    products[product['product_id']] = {\n",
    "        'price': product['price'],\n",
    "        'category': product['category_path']\n",
    "    }\n",
    "\n",
    "\n",
    "class Event:\n",
    "    def __init__(self, time, user_city, product_price, product_category, event_type, discount):\n",
    "        self.time = time.total_seconds()\n",
    "        self.user_city = user_city\n",
    "        self.product_price = product_price\n",
    "        self.product_category = product_category\n",
    "        self.bought = event_type == \"BUY_PRODUCT\"\n",
    "        self.discount = discount\n"
   ]
  },
  {
   "cell_type": "code",
   "execution_count": null,
   "metadata": {},
   "outputs": [],
   "source": []
  },
  {
   "cell_type": "code",
   "execution_count": null,
   "metadata": {},
   "outputs": [],
   "source": [
    "events = []\n",
    "buys = []\n",
    "\n",
    "last_session_id = -1\n",
    "\n",
    "time = 0\n",
    "last_datetime = datetime.now()\n",
    "\n",
    "for event in events_list:\n",
    "    current_datetime = datetime.strptime(event['timestamp'], '%Y-%m-%dT%H:%M:%S')\n",
    "    time = current_datetime - last_datetime\n",
    "    last_datetime = current_datetime\n",
    "\n",
    "    current_session_id = event[\"session_id\"]\n",
    "    if last_session_id != current_session_id:\n",
    "        last_session_id = current_session_id\n",
    "        time = current_datetime - current_datetime\n",
    "\n",
    "    time = time.total_seconds()\n",
    "    product_dict = products[event[\"product_id\"]]\n",
    "\n",
    "\n",
    "    buys.append(event['event_type'] == 'BUY_PRODUCT')\n",
    "    events.append({'session_id' : event['session_id'],\n",
    "                     'user_id' : event['user_id'],\n",
    "                     'time' : time,\n",
    "                     'city' : cities[event[\"user_id\"]],\n",
    "                     'price' : product_dict['price'],\n",
    "                     'category' : product_dict['category'],\n",
    "                     'discount' : event[\"offered_discount\"]\n",
    "                    })\n"
   ]
  },
  {
   "cell_type": "code",
   "execution_count": null,
   "outputs": [],
   "source": [],
   "metadata": {
    "collapsed": false,
    "pycharm": {
     "name": "#%%\n"
    }
   }
  },
  {
   "cell_type": "code",
   "execution_count": null,
   "metadata": {
    "collapsed": true
   },
   "outputs": [],
   "source": [
    "with open('records2.json', 'w') as file:\n",
    "    json.dump(events,\n",
    "              file, indent=2)\n",
    "\n",
    "with open('buys2.json', 'w') as file:\n",
    "    json.dump(buys,\n",
    "              file, indent=2)\n",
    "\n",
    "\n",
    "print(\"Zapisano rekordy w pliku json\")"
   ]
  },
  {
   "cell_type": "code",
   "execution_count": null,
   "metadata": {},
   "outputs": [],
   "source": []
  }
 ],
 "metadata": {
  "kernelspec": {
   "name": "pycharm-abe1d7a7",
   "language": "python",
   "display_name": "PyCharm (eshop-prediction)"
  },
  "language_info": {
   "codemirror_mode": {
    "name": "ipython",
    "version": 3
   },
   "file_extension": ".py",
   "mimetype": "text/x-python",
   "name": "python",
   "nbconvert_exporter": "python",
   "pygments_lexer": "ipython3",
   "version": "3.7.6"
  }
 },
 "nbformat": 4,
 "nbformat_minor": 1
}